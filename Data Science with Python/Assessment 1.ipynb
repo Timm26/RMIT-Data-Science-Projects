{
 "cells": [
  {
   "cell_type": "markdown",
   "metadata": {},
   "source": [
    "\n",
    "# Assignment 1: Code for dataset preparation report"
   ]
  },
  {
   "cell_type": "markdown",
   "metadata": {},
   "source": [
    "# Table of Contents\n",
    "- [1. Preparation of Raw Data](#1-preparation-of-raw-data)\n",
    "  - [1.1 Data Retrieving](#11-data-retrieving)\n",
    "  - [1.2 Check Data Type](#12-check-data-type)\n",
    "  - [1.3 Typos](#13-typos)\n",
    "  - [1.4 Extra Whitespace](#14-extra-whitespace)\n",
    "  - [1.5 Upper/Lower-Case](#15-upperlower-case)\n",
    "  - [1.6 Sanity Checks Part 1 - Check of Categorical Data](#16-sanity-checks-part-1---check-of-categorical-data)\n",
    "  - [1.7 Missing Values](#17-missing-values)\n",
    "  - [1.8 Correcting Variable Types](#18-correcting-variable-types)\n",
    "  - [1.9 Sanity Check Part 2](#19-sanity-check-part-2)\n",
    "\n",
    "- [2. Exploratory Data Analysis (EDA)](#2-exploratory-data-analysis-eda)\n",
    "  - [2.1 Analysis on Three Variables](#21-analysis-on-three-variables)\n",
    "  - [2.2 Relationships Between Variables](#22-relationships-between-variables)\n",
    "    - [2.2.1 Relation Between Years At Company and Monthly Income](#221-relation-between-years-at-company-and-monthly-income)\n",
    "    - [2.2.2 Correlation Between MonthlyIncome and EducationLevel](#222-correlation-between-monthlyincome-and-educationlevel)\n",
    "    - [2.2.3 Correlation Between Eight Selected Variables of All Data Kinds](#223-correlation-between-eight-selected-variables-of-all-data-kinds)"
   ]
  },
  {
   "cell_type": "markdown",
   "metadata": {
    "collapsed": true
   },
   "source": [
    "# 1. Preparation of raw data"
   ]
  },
  {
   "cell_type": "markdown",
   "metadata": {},
   "source": [
    "The below code downloads all necessary libraries needed for this assignment."
   ]
  },
  {
   "cell_type": "code",
   "execution_count": 1,
   "metadata": {
    "collapsed": true
   },
   "outputs": [],
   "source": [
    "# Load all necessary libraries\n",
    "import pandas as pd\n",
    "import numpy as np\n",
    "import matplotlib.pyplot as plt\n",
    "import seaborn as sns"
   ]
  },
  {
   "cell_type": "markdown",
   "metadata": {},
   "source": [
    "### 1.1 Data Retrieving"
   ]
  },
  {
   "cell_type": "markdown",
   "metadata": {},
   "source": [
    "First, we import the CSV file, check the rows and columns and display the first five columns of the dataframe df."
   ]
  },
  {
   "cell_type": "code",
   "execution_count": 2,
   "metadata": {
    "collapsed": true
   },
   "outputs": [],
   "source": [
    "# Data Retrieving, leaving all columns as per csv\n",
    "df = pd.read_csv('A1_HR_Employee_Data.csv',sep = ',', decimal = '.', header = 0)"
   ]
  },
  {
   "cell_type": "code",
   "execution_count": 3,
   "metadata": {},
   "outputs": [
    {
     "name": "stdout",
     "output_type": "stream",
     "text": [
      "Our dataframe \"df\" has 1482 rows, and 22 columns.\n"
     ]
    }
   ],
   "source": [
    "# Print Rows and Columns\n",
    "print(f'Our dataframe \"df\" has {df.shape[0]} rows, and {df.shape[1]} columns.')"
   ]
  },
  {
   "cell_type": "code",
   "execution_count": 4,
   "metadata": {
    "scrolled": true
   },
   "outputs": [
    {
     "data": {
      "text/html": [
       "<div>\n",
       "<style scoped>\n",
       "    .dataframe tbody tr th:only-of-type {\n",
       "        vertical-align: middle;\n",
       "    }\n",
       "\n",
       "    .dataframe tbody tr th {\n",
       "        vertical-align: top;\n",
       "    }\n",
       "\n",
       "    .dataframe thead th {\n",
       "        text-align: right;\n",
       "    }\n",
       "</style>\n",
       "<table border=\"1\" class=\"dataframe\">\n",
       "  <thead>\n",
       "    <tr style=\"text-align: right;\">\n",
       "      <th></th>\n",
       "      <th>EmployeeID</th>\n",
       "      <th>Age</th>\n",
       "      <th>Resigned</th>\n",
       "      <th>BusinessTravel</th>\n",
       "      <th>BusinessUnit</th>\n",
       "      <th>EducationLevel</th>\n",
       "      <th>Gender</th>\n",
       "      <th>JobSatisfaction</th>\n",
       "      <th>MaritalStatus</th>\n",
       "      <th>MonthlyIncome</th>\n",
       "      <th>NumCompaniesWorked</th>\n",
       "      <th>OverTime</th>\n",
       "      <th>PercentSalaryHike</th>\n",
       "      <th>PerformanceRating</th>\n",
       "      <th>AverageWeeklyHoursWorked</th>\n",
       "      <th>TotalWorkingYears</th>\n",
       "      <th>TrainingTimesLastYear</th>\n",
       "      <th>WorkLifeBalance</th>\n",
       "      <th>YearsAtCompany</th>\n",
       "      <th>YearsInRole</th>\n",
       "      <th>YearsSinceLastPromotion</th>\n",
       "      <th>YearsWithCurrManager</th>\n",
       "    </tr>\n",
       "  </thead>\n",
       "  <tbody>\n",
       "    <tr>\n",
       "      <th>0</th>\n",
       "      <td>7912</td>\n",
       "      <td>41</td>\n",
       "      <td>Yes</td>\n",
       "      <td>Travel_Rarely</td>\n",
       "      <td>Sales</td>\n",
       "      <td>2.0</td>\n",
       "      <td>Female</td>\n",
       "      <td>4.0</td>\n",
       "      <td>Single</td>\n",
       "      <td>5993.0</td>\n",
       "      <td>8</td>\n",
       "      <td>Yes</td>\n",
       "      <td>11</td>\n",
       "      <td>3</td>\n",
       "      <td>63.0</td>\n",
       "      <td>8</td>\n",
       "      <td>0</td>\n",
       "      <td>1.0</td>\n",
       "      <td>6</td>\n",
       "      <td>4</td>\n",
       "      <td>0</td>\n",
       "      <td>5</td>\n",
       "    </tr>\n",
       "    <tr>\n",
       "      <th>1</th>\n",
       "      <td>1520</td>\n",
       "      <td>49</td>\n",
       "      <td>No</td>\n",
       "      <td>Travel_Frequently</td>\n",
       "      <td>Consultants</td>\n",
       "      <td>1.0</td>\n",
       "      <td>Male</td>\n",
       "      <td>2.0</td>\n",
       "      <td>Married</td>\n",
       "      <td>5130.0</td>\n",
       "      <td>1</td>\n",
       "      <td>No</td>\n",
       "      <td>23</td>\n",
       "      <td>4</td>\n",
       "      <td>40.0</td>\n",
       "      <td>10</td>\n",
       "      <td>3</td>\n",
       "      <td>3.0</td>\n",
       "      <td>10</td>\n",
       "      <td>7</td>\n",
       "      <td>1</td>\n",
       "      <td>7</td>\n",
       "    </tr>\n",
       "    <tr>\n",
       "      <th>2</th>\n",
       "      <td>1488</td>\n",
       "      <td>37</td>\n",
       "      <td>Yes</td>\n",
       "      <td>Travel_Rarely</td>\n",
       "      <td>Consultants</td>\n",
       "      <td>2.0</td>\n",
       "      <td>Male</td>\n",
       "      <td>3.0</td>\n",
       "      <td>Single</td>\n",
       "      <td>2090.0</td>\n",
       "      <td>6</td>\n",
       "      <td>Yes</td>\n",
       "      <td>15</td>\n",
       "      <td>3</td>\n",
       "      <td>50.0</td>\n",
       "      <td>7</td>\n",
       "      <td>3</td>\n",
       "      <td>3.0</td>\n",
       "      <td>0</td>\n",
       "      <td>0</td>\n",
       "      <td>0</td>\n",
       "      <td>0</td>\n",
       "    </tr>\n",
       "    <tr>\n",
       "      <th>3</th>\n",
       "      <td>2535</td>\n",
       "      <td>33</td>\n",
       "      <td>No</td>\n",
       "      <td>Travel_Frequently</td>\n",
       "      <td>Consultants</td>\n",
       "      <td>4.0</td>\n",
       "      <td>Female</td>\n",
       "      <td>3.0</td>\n",
       "      <td>Married</td>\n",
       "      <td>2909.0</td>\n",
       "      <td>1</td>\n",
       "      <td>Yes</td>\n",
       "      <td>11</td>\n",
       "      <td>3</td>\n",
       "      <td>48.0</td>\n",
       "      <td>8</td>\n",
       "      <td>3</td>\n",
       "      <td>3.0</td>\n",
       "      <td>8</td>\n",
       "      <td>7</td>\n",
       "      <td>3</td>\n",
       "      <td>0</td>\n",
       "    </tr>\n",
       "    <tr>\n",
       "      <th>4</th>\n",
       "      <td>4582</td>\n",
       "      <td>27</td>\n",
       "      <td>No</td>\n",
       "      <td>Travel_Rarely</td>\n",
       "      <td>Consultants</td>\n",
       "      <td>1.0</td>\n",
       "      <td>Male</td>\n",
       "      <td>2.0</td>\n",
       "      <td>Married</td>\n",
       "      <td>3468.0</td>\n",
       "      <td>9</td>\n",
       "      <td>No</td>\n",
       "      <td>12</td>\n",
       "      <td>3</td>\n",
       "      <td>40.0</td>\n",
       "      <td>6</td>\n",
       "      <td>3</td>\n",
       "      <td>3.0</td>\n",
       "      <td>2</td>\n",
       "      <td>2</td>\n",
       "      <td>2</td>\n",
       "      <td>2</td>\n",
       "    </tr>\n",
       "  </tbody>\n",
       "</table>\n",
       "</div>"
      ],
      "text/plain": [
       "   EmployeeID Age Resigned     BusinessTravel BusinessUnit  EducationLevel  \\\n",
       "0        7912  41      Yes      Travel_Rarely        Sales             2.0   \n",
       "1        1520  49       No  Travel_Frequently  Consultants             1.0   \n",
       "2        1488  37      Yes      Travel_Rarely  Consultants             2.0   \n",
       "3        2535  33       No  Travel_Frequently  Consultants             4.0   \n",
       "4        4582  27       No      Travel_Rarely  Consultants             1.0   \n",
       "\n",
       "   Gender  JobSatisfaction MaritalStatus  MonthlyIncome  NumCompaniesWorked  \\\n",
       "0  Female              4.0        Single         5993.0                   8   \n",
       "1    Male              2.0       Married         5130.0                   1   \n",
       "2    Male              3.0        Single         2090.0                   6   \n",
       "3  Female              3.0       Married         2909.0                   1   \n",
       "4    Male              2.0       Married         3468.0                   9   \n",
       "\n",
       "  OverTime  PercentSalaryHike  PerformanceRating  AverageWeeklyHoursWorked  \\\n",
       "0      Yes                 11                  3                      63.0   \n",
       "1       No                 23                  4                      40.0   \n",
       "2      Yes                 15                  3                      50.0   \n",
       "3      Yes                 11                  3                      48.0   \n",
       "4       No                 12                  3                      40.0   \n",
       "\n",
       "   TotalWorkingYears  TrainingTimesLastYear  WorkLifeBalance  YearsAtCompany  \\\n",
       "0                  8                      0              1.0               6   \n",
       "1                 10                      3              3.0              10   \n",
       "2                  7                      3              3.0               0   \n",
       "3                  8                      3              3.0               8   \n",
       "4                  6                      3              3.0               2   \n",
       "\n",
       "   YearsInRole  YearsSinceLastPromotion  YearsWithCurrManager  \n",
       "0            4                        0                     5  \n",
       "1            7                        1                     7  \n",
       "2            0                        0                     0  \n",
       "3            7                        3                     0  \n",
       "4            2                        2                     2  "
      ]
     },
     "execution_count": 4,
     "metadata": {},
     "output_type": "execute_result"
    }
   ],
   "source": [
    "# Display all Variables in the dataframe\n",
    "pd.set_option('display.max_columns', None)\n",
    "df.head()"
   ]
  },
  {
   "cell_type": "markdown",
   "metadata": {
    "collapsed": true
   },
   "source": [
    "### 1.2 Check data type"
   ]
  },
  {
   "cell_type": "markdown",
   "metadata": {},
   "source": [
    "We perform simple statistics on our dataframe to generate an idea of what kind of data we are working with and how many unique values each column holds."
   ]
  },
  {
   "cell_type": "code",
   "execution_count": 5,
   "metadata": {
    "scrolled": true
   },
   "outputs": [
    {
     "name": "stdout",
     "output_type": "stream",
     "text": [
      "<class 'pandas.core.frame.DataFrame'>\n",
      "RangeIndex: 1482 entries, 0 to 1481\n",
      "Data columns (total 22 columns):\n",
      " #   Column                    Non-Null Count  Dtype  \n",
      "---  ------                    --------------  -----  \n",
      " 0   EmployeeID                1482 non-null   int64  \n",
      " 1   Age                       1482 non-null   object \n",
      " 2   Resigned                  1480 non-null   object \n",
      " 3   BusinessTravel            1482 non-null   object \n",
      " 4   BusinessUnit              1482 non-null   object \n",
      " 5   EducationLevel            1481 non-null   float64\n",
      " 6   Gender                    1482 non-null   object \n",
      " 7   JobSatisfaction           1481 non-null   float64\n",
      " 8   MaritalStatus             1482 non-null   object \n",
      " 9   MonthlyIncome             1479 non-null   float64\n",
      " 10  NumCompaniesWorked        1482 non-null   int64  \n",
      " 11  OverTime                  1479 non-null   object \n",
      " 12  PercentSalaryHike         1482 non-null   int64  \n",
      " 13  PerformanceRating         1482 non-null   int64  \n",
      " 14  AverageWeeklyHoursWorked  1482 non-null   float64\n",
      " 15  TotalWorkingYears         1482 non-null   int64  \n",
      " 16  TrainingTimesLastYear     1482 non-null   int64  \n",
      " 17  WorkLifeBalance           1481 non-null   float64\n",
      " 18  YearsAtCompany            1482 non-null   int64  \n",
      " 19  YearsInRole               1482 non-null   int64  \n",
      " 20  YearsSinceLastPromotion   1482 non-null   int64  \n",
      " 21  YearsWithCurrManager      1482 non-null   int64  \n",
      "dtypes: float64(5), int64(10), object(7)\n",
      "memory usage: 254.8+ KB\n",
      "None\n"
     ]
    }
   ],
   "source": [
    "# Check data type\n",
    "print(df.info())"
   ]
  },
  {
   "cell_type": "code",
   "execution_count": 6,
   "metadata": {
    "scrolled": true
   },
   "outputs": [
    {
     "name": "stdout",
     "output_type": "stream",
     "text": [
      "EmployeeID, 1482\n",
      "Age, 44\n",
      "Resigned, 6\n",
      "BusinessTravel, 6\n",
      "BusinessUnit, 4\n",
      "EducationLevel, 5\n",
      "Gender, 8\n",
      "JobSatisfaction, 4\n",
      "MaritalStatus, 6\n",
      "MonthlyIncome, 1354\n",
      "NumCompaniesWorked, 10\n",
      "OverTime, 2\n",
      "PercentSalaryHike, 18\n",
      "PerformanceRating, 3\n",
      "AverageWeeklyHoursWorked, 24\n",
      "TotalWorkingYears, 40\n",
      "TrainingTimesLastYear, 7\n",
      "WorkLifeBalance, 4\n",
      "YearsAtCompany, 37\n",
      "YearsInRole, 19\n",
      "YearsSinceLastPromotion, 16\n",
      "YearsWithCurrManager, 18\n"
     ]
    }
   ],
   "source": [
    "# Display all columns with their unique values\n",
    "for col in df.columns:\n",
    "    print(f'{col}, {df[col].nunique()}')"
   ]
  },
  {
   "cell_type": "code",
   "execution_count": 7,
   "metadata": {},
   "outputs": [
    {
     "name": "stdout",
     "output_type": "stream",
     "text": [
      "Column: EmployeeID\n",
      ", Values: 7912    1\n",
      "7522    1\n",
      "4375    1\n",
      "9735    1\n",
      "3000    1\n",
      "       ..\n",
      "7812    1\n",
      "8633    1\n",
      "6421    1\n",
      "7678    1\n",
      "3238    1\n",
      "Name: EmployeeID, Length: 1482, dtype: int64\n",
      "\n",
      "Column: Age\n",
      ", Values: 35     78\n",
      "34     77\n",
      "36     70\n",
      "31     69\n",
      "29     68\n",
      "32     62\n",
      "30     60\n",
      "38     59\n",
      "33     59\n",
      "40     58\n",
      "37     50\n",
      "28     48\n",
      "27     48\n",
      "42     46\n",
      "39     42\n",
      "26     42\n",
      "45     41\n",
      "41     40\n",
      "44     33\n",
      "46     33\n",
      "43     32\n",
      "50     30\n",
      "24     26\n",
      "25     26\n",
      "49     24\n",
      "47     24\n",
      "55     22\n",
      "51     19\n",
      "48     19\n",
      "53     19\n",
      "54     18\n",
      "52     18\n",
      "22     16\n",
      "56     15\n",
      "23     15\n",
      "21     14\n",
      "58     14\n",
      "20     11\n",
      "59     10\n",
      "19      9\n",
      "18      8\n",
      "60      5\n",
      "57      4\n",
      "36a     1\n",
      "Name: Age, dtype: int64\n",
      "\n",
      "Column: Resigned\n",
      ", Values: No     1238\n",
      "Yes     238\n",
      "NaN       2\n",
      "Y         1\n",
      "NO        1\n",
      "N         1\n",
      "no        1\n",
      "Name: Resigned, dtype: int64\n",
      "\n",
      "Column: BusinessTravel\n",
      ", Values: Travel_Rarely        1048\n",
      "Travel_Frequently     279\n",
      "Non-Travel            152\n",
      "Travels_Rarely          1\n",
      "TRAVEL_RARELY           1\n",
      "rarely_travel           1\n",
      "Name: BusinessTravel, dtype: int64\n",
      "\n",
      "Column: BusinessUnit\n",
      ", Values: Consultants            969\n",
      "Sales                  447\n",
      "Business Operations     65\n",
      "Female                   1\n",
      "Name: BusinessUnit, dtype: int64\n",
      "\n",
      "Column: EducationLevel\n",
      ", Values: 3.0    573\n",
      "4.0    403\n",
      "2.0    287\n",
      "1.0    170\n",
      "5.0     48\n",
      "NaN      1\n",
      "Name: EducationLevel, dtype: int64\n",
      "\n",
      "Column: Gender\n",
      ", Values: Male          882\n",
      "Female        591\n",
      "    Female      3\n",
      "      Male      2\n",
      "Sales           1\n",
      "MMale           1\n",
      "M               1\n",
      "male            1\n",
      "Name: Gender, dtype: int64\n",
      "\n",
      "Column: JobSatisfaction\n",
      ", Values: 4.0    463\n",
      "3.0    449\n",
      "1.0    289\n",
      "2.0    280\n",
      "NaN      1\n",
      "Name: JobSatisfaction, dtype: int64\n",
      "\n",
      "Column: MaritalStatus\n",
      ", Values: Married            679\n",
      "Single             474\n",
      "Divorced           326\n",
      "       Divorced      1\n",
      "         Single      1\n",
      "D                    1\n",
      "Name: MaritalStatus, dtype: int64\n",
      "\n",
      "Column: MonthlyIncome\n",
      ", Values: 2342.0     4\n",
      "6142.0     3\n",
      "2451.0     3\n",
      "2404.0     3\n",
      "2380.0     3\n",
      "          ..\n",
      "3875.0     1\n",
      "19189.0    1\n",
      "8793.0     1\n",
      "9884.0     1\n",
      "17444.0    1\n",
      "Name: MonthlyIncome, Length: 1355, dtype: int64\n",
      "\n",
      "Column: NumCompaniesWorked\n",
      ", Values: 1    528\n",
      "0    197\n",
      "3    160\n",
      "2    147\n",
      "4    139\n",
      "7     75\n",
      "6     70\n",
      "5     63\n",
      "9     53\n",
      "8     50\n",
      "Name: NumCompaniesWorked, dtype: int64\n",
      "\n",
      "Column: OverTime\n",
      ", Values: No     1062\n",
      "Yes     417\n",
      "NaN       3\n",
      "Name: OverTime, dtype: int64\n",
      "\n",
      "Column: PercentSalaryHike\n",
      ", Values: 11    211\n",
      "13    211\n",
      "14    202\n",
      "12    200\n",
      "15    101\n",
      "18     91\n",
      "17     82\n",
      "16     78\n",
      "19     76\n",
      "22     57\n",
      "20     55\n",
      "21     48\n",
      "23     28\n",
      "24     21\n",
      "25     18\n",
      "6       1\n",
      "10      1\n",
      "0       1\n",
      "Name: PercentSalaryHike, dtype: int64\n",
      "\n",
      "Column: PerformanceRating\n",
      ", Values: 3    1252\n",
      "4     229\n",
      "2       1\n",
      "Name: PerformanceRating, dtype: int64\n",
      "\n",
      "Column: AverageWeeklyHoursWorked\n",
      ", Values: 40.0     1060\n",
      "49.0       65\n",
      "47.0       59\n",
      "50.0       54\n",
      "48.0       54\n",
      "52.0       44\n",
      "51.0       43\n",
      "53.0       23\n",
      "54.0       17\n",
      "46.0       11\n",
      "55.0        9\n",
      "45.0        8\n",
      "56.0        8\n",
      "67.0        4\n",
      "64.0        4\n",
      "63.0        3\n",
      "66.0        3\n",
      "57.0        3\n",
      "69.0        2\n",
      "62.0        2\n",
      "70.0        2\n",
      "71.0        2\n",
      "65.0        1\n",
      "400.0       1\n",
      "Name: AverageWeeklyHoursWorked, dtype: int64\n",
      "\n",
      "Column: TotalWorkingYears\n",
      ", Values: 10    203\n",
      "6     125\n",
      "8     105\n",
      "9      96\n",
      "5      89\n",
      "7      84\n",
      "1      81\n",
      "4      64\n",
      "12     48\n",
      "3      42\n",
      "15     41\n",
      "11     37\n",
      "16     37\n",
      "13     36\n",
      "21     34\n",
      "17     33\n",
      "2      31\n",
      "14     31\n",
      "20     30\n",
      "18     27\n",
      "19     22\n",
      "23     22\n",
      "22     21\n",
      "24     18\n",
      "25     14\n",
      "28     14\n",
      "26     14\n",
      "0      13\n",
      "29     10\n",
      "31      9\n",
      "32      9\n",
      "30      7\n",
      "33      7\n",
      "27      7\n",
      "36      6\n",
      "34      5\n",
      "37      4\n",
      "35      3\n",
      "40      2\n",
      "38      1\n",
      "Name: TotalWorkingYears, dtype: int64\n",
      "\n",
      "Column: TrainingTimesLastYear\n",
      ", Values: 2    554\n",
      "3    494\n",
      "4    123\n",
      "5    120\n",
      "1     71\n",
      "6     65\n",
      "0     55\n",
      "Name: TrainingTimesLastYear, dtype: int64\n",
      "\n",
      "Column: WorkLifeBalance\n",
      ", Values: 3.0    899\n",
      "2.0    346\n",
      "4.0    155\n",
      "1.0     81\n",
      "NaN      1\n",
      "Name: WorkLifeBalance, dtype: int64\n",
      "\n",
      "Column: YearsAtCompany\n",
      ", Values: 5     197\n",
      "1     173\n",
      "3     129\n",
      "2     127\n",
      "10    121\n",
      "4     110\n",
      "7      92\n",
      "8      82\n",
      "9      82\n",
      "6      77\n",
      "0      45\n",
      "11     32\n",
      "20     27\n",
      "13     25\n",
      "15     20\n",
      "14     18\n",
      "22     15\n",
      "12     14\n",
      "21     14\n",
      "18     13\n",
      "16     12\n",
      "19     11\n",
      "17      9\n",
      "24      6\n",
      "33      5\n",
      "25      4\n",
      "26      4\n",
      "31      3\n",
      "32      3\n",
      "27      2\n",
      "36      2\n",
      "29      2\n",
      "23      2\n",
      "37      1\n",
      "40      1\n",
      "34      1\n",
      "30      1\n",
      "Name: YearsAtCompany, dtype: int64\n",
      "\n",
      "Column: YearsInRole\n",
      ", Values: 2     373\n",
      "0     245\n",
      "7     224\n",
      "3     136\n",
      "4     106\n",
      "8      90\n",
      "9      67\n",
      "1      59\n",
      "6      38\n",
      "5      36\n",
      "10     30\n",
      "11     22\n",
      "13     14\n",
      "14     11\n",
      "12     10\n",
      "15      8\n",
      "16      7\n",
      "17      4\n",
      "18      2\n",
      "Name: YearsInRole, dtype: int64\n",
      "\n",
      "Column: YearsSinceLastPromotion\n",
      ", Values: 0     587\n",
      "1     359\n",
      "2     159\n",
      "7      77\n",
      "4      61\n",
      "3      52\n",
      "5      46\n",
      "6      32\n",
      "11     24\n",
      "8      19\n",
      "9      17\n",
      "15     13\n",
      "13     10\n",
      "12     10\n",
      "14      9\n",
      "10      7\n",
      "Name: YearsSinceLastPromotion, dtype: int64\n",
      "\n",
      "Column: YearsWithCurrManager\n",
      ", Values: 2     345\n",
      "0     264\n",
      "7     217\n",
      "3     144\n",
      "8     107\n",
      "4      98\n",
      "1      79\n",
      "9      64\n",
      "5      33\n",
      "6      30\n",
      "10     28\n",
      "11     22\n",
      "12     18\n",
      "13     14\n",
      "17      7\n",
      "15      5\n",
      "14      5\n",
      "16      2\n",
      "Name: YearsWithCurrManager, dtype: int64\n",
      "\n"
     ]
    }
   ],
   "source": [
    "# Display each column and the actual values including all missing values\n",
    "for col in df.columns:\n",
    "    print(f'Column: {col}\\n, Values: {df[col].value_counts(dropna=False)}\\n')"
   ]
  },
  {
   "cell_type": "markdown",
   "metadata": {},
   "source": [
    "### 1.3 Typos"
   ]
  },
  {
   "cell_type": "markdown",
   "metadata": {},
   "source": [
    "Next, we start tidying our values by exploring each unique entry per column, veryfying the results and fixing Typos."
   ]
  },
  {
   "cell_type": "code",
   "execution_count": 8,
   "metadata": {
    "scrolled": false
   },
   "outputs": [
    {
     "name": "stdout",
     "output_type": "stream",
     "text": [
      "Unique values in EmployeeID:\n",
      "[7912 1520 1488 ... 9017 2477 3238]\n",
      "\n",
      "Unique values in Age:\n",
      "['41' '49' '37' '33' '27' '32' '59' '30' '38' '36' '35' '29' '31' '34'\n",
      " '28' '22' '53' '24' '21' '42' '44' '46' '39' '43' '50' '26' '48' '55'\n",
      " '45' '56' '23' '51' '40' '54' '58' '20' '25' '19' '57' '52' '47' '18'\n",
      " '60' '36a']\n",
      "\n",
      "Unique values in Resigned:\n",
      "['Yes' 'No' 'Y' nan 'NO' 'N' 'no']\n",
      "\n",
      "Unique values in BusinessTravel:\n",
      "['Travel_Rarely' 'Travel_Frequently' 'Non-Travel' 'Travels_Rarely'\n",
      " 'TRAVEL_RARELY' 'rarely_travel']\n",
      "\n",
      "Unique values in BusinessUnit:\n",
      "['Sales' 'Consultants' 'Business Operations' 'Female']\n",
      "\n",
      "Unique values in EducationLevel:\n",
      "[ 2.  1.  4.  3.  5. nan]\n",
      "\n",
      "Unique values in Gender:\n",
      "['Female' 'Male' '      Male' '    Female' 'Sales' 'MMale' 'M' 'male']\n",
      "\n",
      "Unique values in JobSatisfaction:\n",
      "[ 4.  2.  3.  1. nan]\n",
      "\n",
      "Unique values in MaritalStatus:\n",
      "['Single' 'Married' 'Divorced' '       Divorced' '         Single' 'D']\n",
      "\n",
      "Unique values in MonthlyIncome:\n",
      "[5993. 5130. 2090. ... 3935. 3700. 4802.]\n",
      "\n",
      "Unique values in NumCompaniesWorked:\n",
      "[8 1 6 9 0 4 5 2 7 3]\n",
      "\n",
      "Unique values in OverTime:\n",
      "['Yes' 'No' nan]\n",
      "\n",
      "Unique values in PercentSalaryHike:\n",
      "[11 23 15 12 13 20 22 21 17 14 16 18 19 24 25  6 10  0]\n",
      "\n",
      "Unique values in PerformanceRating:\n",
      "[3 4 2]\n",
      "\n",
      "Unique values in AverageWeeklyHoursWorked:\n",
      "[ 63.  40.  50.  48.  52.  51.  54.  47.  53.  46.  45.  56.  55.  49.\n",
      "  57.  66.  69.  67.  62.  70.  64.  71.  65. 400.]\n",
      "\n",
      "Unique values in TotalWorkingYears:\n",
      "[ 8 10  7  6 12  1 17  5  3 31 13  0 26 24 22  9 19  2 23 14 15  4 29 28\n",
      " 21 25 20 11 16 37 38 30 40 18 36 34 32 33 35 27]\n",
      "\n",
      "Unique values in TrainingTimesLastYear:\n",
      "[0 3 2 5 1 4 6]\n",
      "\n",
      "Unique values in WorkLifeBalance:\n",
      "[ 1.  3.  2.  4. nan]\n",
      "\n",
      "Unique values in YearsAtCompany:\n",
      "[ 6 10  0  8  2  7  1  9  5  4 25  3 12 14 22 15 27 21 17 11 13 37 16 20\n",
      " 40 24 33 19 36 18 29 31 32 34 26 30 23]\n",
      "\n",
      "Unique values in YearsInRole:\n",
      "[ 4  7  0  2  5  9  8  3  6 13  1 15 14 16 11 10 12 18 17]\n",
      "\n",
      "Unique values in YearsSinceLastPromotion:\n",
      "[ 0  1  3  2  7  4  8  6  5 15  9 13 12 10 11 14]\n",
      "\n",
      "Unique values in YearsWithCurrManager:\n",
      "[ 5  7  0  2  6  8  3 11 17  1  4 12  9 10 15 13 16 14]\n",
      "\n"
     ]
    }
   ],
   "source": [
    "# We can iterate through our variables to check if any Typos are hidding in the values\n",
    "column_names = df.columns\n",
    "for column in column_names:\n",
    "    print(f\"Unique values in {column}:\")\n",
    "    print(f\"{df[column].unique()}\\n\")"
   ]
  },
  {
   "cell_type": "code",
   "execution_count": 9,
   "metadata": {
    "scrolled": true
   },
   "outputs": [
    {
     "data": {
      "text/plain": [
       "35     78\n",
       "34     77\n",
       "36     70\n",
       "31     69\n",
       "29     68\n",
       "32     62\n",
       "30     60\n",
       "38     59\n",
       "33     59\n",
       "40     58\n",
       "37     50\n",
       "28     48\n",
       "27     48\n",
       "42     46\n",
       "39     42\n",
       "26     42\n",
       "45     41\n",
       "41     40\n",
       "44     33\n",
       "46     33\n",
       "43     32\n",
       "50     30\n",
       "24     26\n",
       "25     26\n",
       "49     24\n",
       "47     24\n",
       "55     22\n",
       "51     19\n",
       "48     19\n",
       "53     19\n",
       "54     18\n",
       "52     18\n",
       "22     16\n",
       "56     15\n",
       "23     15\n",
       "21     14\n",
       "58     14\n",
       "20     11\n",
       "59     10\n",
       "19      9\n",
       "18      8\n",
       "60      5\n",
       "57      4\n",
       "36a     1\n",
       "Name: Age, dtype: int64"
      ]
     },
     "execution_count": 9,
     "metadata": {},
     "output_type": "execute_result"
    }
   ],
   "source": [
    "# Double check the values Age\n",
    "df['Age'].value_counts()"
   ]
  },
  {
   "cell_type": "code",
   "execution_count": 10,
   "metadata": {},
   "outputs": [
    {
     "data": {
      "text/plain": [
       "No     1238\n",
       "Yes     238\n",
       "Y         1\n",
       "NO        1\n",
       "N         1\n",
       "no        1\n",
       "Name: Resigned, dtype: int64"
      ]
     },
     "execution_count": 10,
     "metadata": {},
     "output_type": "execute_result"
    }
   ],
   "source": [
    "# Double check values Resinged\n",
    "df['Resigned'].value_counts()"
   ]
  },
  {
   "cell_type": "code",
   "execution_count": 11,
   "metadata": {},
   "outputs": [
    {
     "data": {
      "text/plain": [
       "Travel_Rarely        1048\n",
       "Travel_Frequently     279\n",
       "Non-Travel            152\n",
       "Travels_Rarely          1\n",
       "TRAVEL_RARELY           1\n",
       "rarely_travel           1\n",
       "Name: BusinessTravel, dtype: int64"
      ]
     },
     "execution_count": 11,
     "metadata": {},
     "output_type": "execute_result"
    }
   ],
   "source": [
    "# Double check values BusinessTravel\n",
    "df['BusinessTravel'].value_counts()"
   ]
  },
  {
   "cell_type": "code",
   "execution_count": 12,
   "metadata": {},
   "outputs": [
    {
     "data": {
      "text/plain": [
       "Male          882\n",
       "Female        591\n",
       "    Female      3\n",
       "      Male      2\n",
       "Sales           1\n",
       "MMale           1\n",
       "M               1\n",
       "male            1\n",
       "Name: Gender, dtype: int64"
      ]
     },
     "execution_count": 12,
     "metadata": {},
     "output_type": "execute_result"
    }
   ],
   "source": [
    "# Double check values Gender\n",
    "df['Gender'].value_counts()"
   ]
  },
  {
   "cell_type": "code",
   "execution_count": 13,
   "metadata": {},
   "outputs": [
    {
     "data": {
      "text/plain": [
       "Married            679\n",
       "Single             474\n",
       "Divorced           326\n",
       "       Divorced      1\n",
       "         Single      1\n",
       "D                    1\n",
       "Name: MaritalStatus, dtype: int64"
      ]
     },
     "execution_count": 13,
     "metadata": {},
     "output_type": "execute_result"
    }
   ],
   "source": [
    "# Double check values MaritalStatus\n",
    "df['MaritalStatus'].value_counts()"
   ]
  },
  {
   "cell_type": "code",
   "execution_count": 14,
   "metadata": {
    "collapsed": true
   },
   "outputs": [],
   "source": [
    "# Fixing the typos\n",
    "df['Age'].replace('36a', '36', inplace = True) #The typo '36a' coerced the rest of values to an object type instead of an integer since '36a' can't be an integer\n",
    "df['Resigned'].replace(['Y', 'N'], ['Yes','No'], inplace = True) #Change 'Y' to 'Yes' and 'N' to 'No'\n",
    "df['BusinessTravel'].replace(['Travels_Rarely', 'rarely_travel'],'Travel_Rarely', inplace = True) #Fix the typos\n",
    "df['Gender'].replace(['MMale','M'], 'Male', inplace = True)\n",
    "df['MaritalStatus'].replace('D', 'Divorced', inplace = True)"
   ]
  },
  {
   "cell_type": "markdown",
   "metadata": {},
   "source": [
    "### 1.4 Extra whitespace"
   ]
  },
  {
   "cell_type": "markdown",
   "metadata": {},
   "source": [
    "The next step in our data preparation process is the removal of all whitespace before and after each string for furthe analysis."
   ]
  },
  {
   "cell_type": "code",
   "execution_count": 15,
   "metadata": {},
   "outputs": [
    {
     "name": "stdout",
     "output_type": "stream",
     "text": [
      "Unique values in EmployeeID:\n",
      "[7912 1520 1488 ... 9017 2477 3238]\n",
      "\n",
      "Unique values in Age:\n",
      "['41' '49' '37' '33' '27' '32' '59' '30' '38' '36' '35' '29' '31' '34'\n",
      " '28' '22' '53' '24' '21' '42' '44' '46' '39' '43' '50' '26' '48' '55'\n",
      " '45' '56' '23' '51' '40' '54' '58' '20' '25' '19' '57' '52' '47' '18'\n",
      " '60']\n",
      "\n",
      "Unique values in Resigned:\n",
      "['Yes' 'No' nan 'NO' 'no']\n",
      "\n",
      "Unique values in BusinessTravel:\n",
      "['Travel_Rarely' 'Travel_Frequently' 'Non-Travel' 'TRAVEL_RARELY']\n",
      "\n",
      "Unique values in BusinessUnit:\n",
      "['Sales' 'Consultants' 'Business Operations' 'Female']\n",
      "\n",
      "Unique values in EducationLevel:\n",
      "[ 2.  1.  4.  3.  5. nan]\n",
      "\n",
      "Unique values in Gender:\n",
      "['Female' 'Male' '      Male' '    Female' 'Sales' 'male']\n",
      "\n",
      "Unique values in JobSatisfaction:\n",
      "[ 4.  2.  3.  1. nan]\n",
      "\n",
      "Unique values in MaritalStatus:\n",
      "['Single' 'Married' 'Divorced' '       Divorced' '         Single']\n",
      "\n",
      "Unique values in MonthlyIncome:\n",
      "[5993. 5130. 2090. ... 3935. 3700. 4802.]\n",
      "\n",
      "Unique values in NumCompaniesWorked:\n",
      "[8 1 6 9 0 4 5 2 7 3]\n",
      "\n",
      "Unique values in OverTime:\n",
      "['Yes' 'No' nan]\n",
      "\n",
      "Unique values in PercentSalaryHike:\n",
      "[11 23 15 12 13 20 22 21 17 14 16 18 19 24 25  6 10  0]\n",
      "\n",
      "Unique values in PerformanceRating:\n",
      "[3 4 2]\n",
      "\n",
      "Unique values in AverageWeeklyHoursWorked:\n",
      "[ 63.  40.  50.  48.  52.  51.  54.  47.  53.  46.  45.  56.  55.  49.\n",
      "  57.  66.  69.  67.  62.  70.  64.  71.  65. 400.]\n",
      "\n",
      "Unique values in TotalWorkingYears:\n",
      "[ 8 10  7  6 12  1 17  5  3 31 13  0 26 24 22  9 19  2 23 14 15  4 29 28\n",
      " 21 25 20 11 16 37 38 30 40 18 36 34 32 33 35 27]\n",
      "\n",
      "Unique values in TrainingTimesLastYear:\n",
      "[0 3 2 5 1 4 6]\n",
      "\n",
      "Unique values in WorkLifeBalance:\n",
      "[ 1.  3.  2.  4. nan]\n",
      "\n",
      "Unique values in YearsAtCompany:\n",
      "[ 6 10  0  8  2  7  1  9  5  4 25  3 12 14 22 15 27 21 17 11 13 37 16 20\n",
      " 40 24 33 19 36 18 29 31 32 34 26 30 23]\n",
      "\n",
      "Unique values in YearsInRole:\n",
      "[ 4  7  0  2  5  9  8  3  6 13  1 15 14 16 11 10 12 18 17]\n",
      "\n",
      "Unique values in YearsSinceLastPromotion:\n",
      "[ 0  1  3  2  7  4  8  6  5 15  9 13 12 10 11 14]\n",
      "\n",
      "Unique values in YearsWithCurrManager:\n",
      "[ 5  7  0  2  6  8  3 11 17  1  4 12  9 10 15 13 16 14]\n",
      "\n"
     ]
    }
   ],
   "source": [
    "# We print all columns to check if whitespace exists.\n",
    "for column in df.columns:\n",
    "    print(f\"Unique values in {column}:\")\n",
    "    print(f\"{df[column].unique()}\\n\")"
   ]
  },
  {
   "cell_type": "markdown",
   "metadata": {},
   "source": [
    "Printing all the result of all variables, numerical variables <b>CAN'T contain whitespace.\n",
    "Whitespace in a numerical variable would coerce the type to a string type! "
   ]
  },
  {
   "cell_type": "code",
   "execution_count": 16,
   "metadata": {
    "collapsed": true
   },
   "outputs": [],
   "source": [
    "# Fixing extra white space\n",
    "column_names = df.columns\n",
    "for column in column_names:\n",
    "    if df[column].dtype == 'object':\n",
    "        df[column] = df[column].apply(lambda x: x.strip() if isinstance(x, str) else x)"
   ]
  },
  {
   "cell_type": "markdown",
   "metadata": {},
   "source": [
    "### 1.5 Upper/Lower-case"
   ]
  },
  {
   "cell_type": "markdown",
   "metadata": {},
   "source": [
    "We perform a for loop to change all text data into upper case letters. This unifies the values."
   ]
  },
  {
   "cell_type": "code",
   "execution_count": 17,
   "metadata": {},
   "outputs": [
    {
     "data": {
      "text/html": [
       "<div>\n",
       "<style scoped>\n",
       "    .dataframe tbody tr th:only-of-type {\n",
       "        vertical-align: middle;\n",
       "    }\n",
       "\n",
       "    .dataframe tbody tr th {\n",
       "        vertical-align: top;\n",
       "    }\n",
       "\n",
       "    .dataframe thead th {\n",
       "        text-align: right;\n",
       "    }\n",
       "</style>\n",
       "<table border=\"1\" class=\"dataframe\">\n",
       "  <thead>\n",
       "    <tr style=\"text-align: right;\">\n",
       "      <th></th>\n",
       "      <th>EmployeeID</th>\n",
       "      <th>Age</th>\n",
       "      <th>Resigned</th>\n",
       "      <th>BusinessTravel</th>\n",
       "      <th>BusinessUnit</th>\n",
       "      <th>EducationLevel</th>\n",
       "      <th>Gender</th>\n",
       "      <th>JobSatisfaction</th>\n",
       "      <th>MaritalStatus</th>\n",
       "      <th>MonthlyIncome</th>\n",
       "      <th>NumCompaniesWorked</th>\n",
       "      <th>OverTime</th>\n",
       "      <th>PercentSalaryHike</th>\n",
       "      <th>PerformanceRating</th>\n",
       "      <th>AverageWeeklyHoursWorked</th>\n",
       "      <th>TotalWorkingYears</th>\n",
       "      <th>TrainingTimesLastYear</th>\n",
       "      <th>WorkLifeBalance</th>\n",
       "      <th>YearsAtCompany</th>\n",
       "      <th>YearsInRole</th>\n",
       "      <th>YearsSinceLastPromotion</th>\n",
       "      <th>YearsWithCurrManager</th>\n",
       "    </tr>\n",
       "  </thead>\n",
       "  <tbody>\n",
       "    <tr>\n",
       "      <th>0</th>\n",
       "      <td>7912</td>\n",
       "      <td>41</td>\n",
       "      <td>YES</td>\n",
       "      <td>TRAVEL_RARELY</td>\n",
       "      <td>SALES</td>\n",
       "      <td>2.0</td>\n",
       "      <td>FEMALE</td>\n",
       "      <td>4.0</td>\n",
       "      <td>SINGLE</td>\n",
       "      <td>5993.0</td>\n",
       "      <td>8</td>\n",
       "      <td>YES</td>\n",
       "      <td>11</td>\n",
       "      <td>3</td>\n",
       "      <td>63.0</td>\n",
       "      <td>8</td>\n",
       "      <td>0</td>\n",
       "      <td>1.0</td>\n",
       "      <td>6</td>\n",
       "      <td>4</td>\n",
       "      <td>0</td>\n",
       "      <td>5</td>\n",
       "    </tr>\n",
       "    <tr>\n",
       "      <th>1</th>\n",
       "      <td>1520</td>\n",
       "      <td>49</td>\n",
       "      <td>NO</td>\n",
       "      <td>TRAVEL_FREQUENTLY</td>\n",
       "      <td>CONSULTANTS</td>\n",
       "      <td>1.0</td>\n",
       "      <td>MALE</td>\n",
       "      <td>2.0</td>\n",
       "      <td>MARRIED</td>\n",
       "      <td>5130.0</td>\n",
       "      <td>1</td>\n",
       "      <td>NO</td>\n",
       "      <td>23</td>\n",
       "      <td>4</td>\n",
       "      <td>40.0</td>\n",
       "      <td>10</td>\n",
       "      <td>3</td>\n",
       "      <td>3.0</td>\n",
       "      <td>10</td>\n",
       "      <td>7</td>\n",
       "      <td>1</td>\n",
       "      <td>7</td>\n",
       "    </tr>\n",
       "    <tr>\n",
       "      <th>2</th>\n",
       "      <td>1488</td>\n",
       "      <td>37</td>\n",
       "      <td>YES</td>\n",
       "      <td>TRAVEL_RARELY</td>\n",
       "      <td>CONSULTANTS</td>\n",
       "      <td>2.0</td>\n",
       "      <td>MALE</td>\n",
       "      <td>3.0</td>\n",
       "      <td>SINGLE</td>\n",
       "      <td>2090.0</td>\n",
       "      <td>6</td>\n",
       "      <td>YES</td>\n",
       "      <td>15</td>\n",
       "      <td>3</td>\n",
       "      <td>50.0</td>\n",
       "      <td>7</td>\n",
       "      <td>3</td>\n",
       "      <td>3.0</td>\n",
       "      <td>0</td>\n",
       "      <td>0</td>\n",
       "      <td>0</td>\n",
       "      <td>0</td>\n",
       "    </tr>\n",
       "    <tr>\n",
       "      <th>3</th>\n",
       "      <td>2535</td>\n",
       "      <td>33</td>\n",
       "      <td>NO</td>\n",
       "      <td>TRAVEL_FREQUENTLY</td>\n",
       "      <td>CONSULTANTS</td>\n",
       "      <td>4.0</td>\n",
       "      <td>FEMALE</td>\n",
       "      <td>3.0</td>\n",
       "      <td>MARRIED</td>\n",
       "      <td>2909.0</td>\n",
       "      <td>1</td>\n",
       "      <td>YES</td>\n",
       "      <td>11</td>\n",
       "      <td>3</td>\n",
       "      <td>48.0</td>\n",
       "      <td>8</td>\n",
       "      <td>3</td>\n",
       "      <td>3.0</td>\n",
       "      <td>8</td>\n",
       "      <td>7</td>\n",
       "      <td>3</td>\n",
       "      <td>0</td>\n",
       "    </tr>\n",
       "    <tr>\n",
       "      <th>4</th>\n",
       "      <td>4582</td>\n",
       "      <td>27</td>\n",
       "      <td>NO</td>\n",
       "      <td>TRAVEL_RARELY</td>\n",
       "      <td>CONSULTANTS</td>\n",
       "      <td>1.0</td>\n",
       "      <td>MALE</td>\n",
       "      <td>2.0</td>\n",
       "      <td>MARRIED</td>\n",
       "      <td>3468.0</td>\n",
       "      <td>9</td>\n",
       "      <td>NO</td>\n",
       "      <td>12</td>\n",
       "      <td>3</td>\n",
       "      <td>40.0</td>\n",
       "      <td>6</td>\n",
       "      <td>3</td>\n",
       "      <td>3.0</td>\n",
       "      <td>2</td>\n",
       "      <td>2</td>\n",
       "      <td>2</td>\n",
       "      <td>2</td>\n",
       "    </tr>\n",
       "  </tbody>\n",
       "</table>\n",
       "</div>"
      ],
      "text/plain": [
       "   EmployeeID Age Resigned     BusinessTravel BusinessUnit  EducationLevel  \\\n",
       "0        7912  41      YES      TRAVEL_RARELY        SALES             2.0   \n",
       "1        1520  49       NO  TRAVEL_FREQUENTLY  CONSULTANTS             1.0   \n",
       "2        1488  37      YES      TRAVEL_RARELY  CONSULTANTS             2.0   \n",
       "3        2535  33       NO  TRAVEL_FREQUENTLY  CONSULTANTS             4.0   \n",
       "4        4582  27       NO      TRAVEL_RARELY  CONSULTANTS             1.0   \n",
       "\n",
       "   Gender  JobSatisfaction MaritalStatus  MonthlyIncome  NumCompaniesWorked  \\\n",
       "0  FEMALE              4.0        SINGLE         5993.0                   8   \n",
       "1    MALE              2.0       MARRIED         5130.0                   1   \n",
       "2    MALE              3.0        SINGLE         2090.0                   6   \n",
       "3  FEMALE              3.0       MARRIED         2909.0                   1   \n",
       "4    MALE              2.0       MARRIED         3468.0                   9   \n",
       "\n",
       "  OverTime  PercentSalaryHike  PerformanceRating  AverageWeeklyHoursWorked  \\\n",
       "0      YES                 11                  3                      63.0   \n",
       "1       NO                 23                  4                      40.0   \n",
       "2      YES                 15                  3                      50.0   \n",
       "3      YES                 11                  3                      48.0   \n",
       "4       NO                 12                  3                      40.0   \n",
       "\n",
       "   TotalWorkingYears  TrainingTimesLastYear  WorkLifeBalance  YearsAtCompany  \\\n",
       "0                  8                      0              1.0               6   \n",
       "1                 10                      3              3.0              10   \n",
       "2                  7                      3              3.0               0   \n",
       "3                  8                      3              3.0               8   \n",
       "4                  6                      3              3.0               2   \n",
       "\n",
       "   YearsInRole  YearsSinceLastPromotion  YearsWithCurrManager  \n",
       "0            4                        0                     5  \n",
       "1            7                        1                     7  \n",
       "2            0                        0                     0  \n",
       "3            7                        3                     0  \n",
       "4            2                        2                     2  "
      ]
     },
     "execution_count": 17,
     "metadata": {},
     "output_type": "execute_result"
    }
   ],
   "source": [
    "# Cast all text data to upper-case  \n",
    "categorical_data = df.select_dtypes('object')\n",
    "df[categorical_data.columns] = categorical_data.apply(lambda x:x.str.upper())\n",
    "df.head()"
   ]
  },
  {
   "cell_type": "markdown",
   "metadata": {},
   "source": [
    "### 1.6 Sanity checks Part 1 - Check of categorical data"
   ]
  },
  {
   "cell_type": "markdown",
   "metadata": {},
   "source": [
    "We split the Sanity Check into two Parts, Part 1 will focus on the correction of Errors in all of our qualitative data. We can't check our quantitative data for errors as they still include missing values."
   ]
  },
  {
   "cell_type": "code",
   "execution_count": 18,
   "metadata": {},
   "outputs": [
    {
     "name": "stdout",
     "output_type": "stream",
     "text": [
      "Unique values in EmployeeID:\n",
      "[7912 1520 1488 ... 9017 2477 3238]\n",
      "\n",
      "Unique values in Age:\n",
      "['41' '49' '37' '33' '27' '32' '59' '30' '38' '36' '35' '29' '31' '34'\n",
      " '28' '22' '53' '24' '21' '42' '44' '46' '39' '43' '50' '26' '48' '55'\n",
      " '45' '56' '23' '51' '40' '54' '58' '20' '25' '19' '57' '52' '47' '18'\n",
      " '60']\n",
      "\n",
      "Unique values in Resigned:\n",
      "['YES' 'NO' nan]\n",
      "\n",
      "Unique values in BusinessTravel:\n",
      "['TRAVEL_RARELY' 'TRAVEL_FREQUENTLY' 'NON-TRAVEL']\n",
      "\n",
      "Unique values in BusinessUnit:\n",
      "['SALES' 'CONSULTANTS' 'BUSINESS OPERATIONS' 'FEMALE']\n",
      "\n",
      "Unique values in EducationLevel:\n",
      "[ 2.  1.  4.  3.  5. nan]\n",
      "\n",
      "Unique values in Gender:\n",
      "['FEMALE' 'MALE' 'SALES']\n",
      "\n",
      "Unique values in JobSatisfaction:\n",
      "[ 4.  2.  3.  1. nan]\n",
      "\n",
      "Unique values in MaritalStatus:\n",
      "['SINGLE' 'MARRIED' 'DIVORCED']\n",
      "\n",
      "Unique values in MonthlyIncome:\n",
      "[5993. 5130. 2090. ... 3935. 3700. 4802.]\n",
      "\n",
      "Unique values in NumCompaniesWorked:\n",
      "[8 1 6 9 0 4 5 2 7 3]\n",
      "\n",
      "Unique values in OverTime:\n",
      "['YES' 'NO' nan]\n",
      "\n",
      "Unique values in PercentSalaryHike:\n",
      "[11 23 15 12 13 20 22 21 17 14 16 18 19 24 25  6 10  0]\n",
      "\n",
      "Unique values in PerformanceRating:\n",
      "[3 4 2]\n",
      "\n",
      "Unique values in AverageWeeklyHoursWorked:\n",
      "[ 63.  40.  50.  48.  52.  51.  54.  47.  53.  46.  45.  56.  55.  49.\n",
      "  57.  66.  69.  67.  62.  70.  64.  71.  65. 400.]\n",
      "\n",
      "Unique values in TotalWorkingYears:\n",
      "[ 8 10  7  6 12  1 17  5  3 31 13  0 26 24 22  9 19  2 23 14 15  4 29 28\n",
      " 21 25 20 11 16 37 38 30 40 18 36 34 32 33 35 27]\n",
      "\n",
      "Unique values in TrainingTimesLastYear:\n",
      "[0 3 2 5 1 4 6]\n",
      "\n",
      "Unique values in WorkLifeBalance:\n",
      "[ 1.  3.  2.  4. nan]\n",
      "\n",
      "Unique values in YearsAtCompany:\n",
      "[ 6 10  0  8  2  7  1  9  5  4 25  3 12 14 22 15 27 21 17 11 13 37 16 20\n",
      " 40 24 33 19 36 18 29 31 32 34 26 30 23]\n",
      "\n",
      "Unique values in YearsInRole:\n",
      "[ 4  7  0  2  5  9  8  3  6 13  1 15 14 16 11 10 12 18 17]\n",
      "\n",
      "Unique values in YearsSinceLastPromotion:\n",
      "[ 0  1  3  2  7  4  8  6  5 15  9 13 12 10 11 14]\n",
      "\n",
      "Unique values in YearsWithCurrManager:\n",
      "[ 5  7  0  2  6  8  3 11 17  1  4 12  9 10 15 13 16 14]\n",
      "\n"
     ]
    }
   ],
   "source": [
    "# We check if any values make no sense - display all unique values\n",
    "column_names = df.columns\n",
    "for column in column_names:\n",
    "    print(f\"Unique values in {column}:\")\n",
    "    print(f\"{df[column].unique()}\\n\")"
   ]
  },
  {
   "cell_type": "code",
   "execution_count": 19,
   "metadata": {},
   "outputs": [
    {
     "data": {
      "text/plain": [
       "BusinessUnit         Gender\n",
       "CONSULTANTS          MALE      586\n",
       "                     FEMALE    383\n",
       "SALES                MALE      258\n",
       "                     FEMALE    189\n",
       "BUSINESS OPERATIONS  MALE       43\n",
       "                     FEMALE     22\n",
       "FEMALE               SALES       1\n",
       "dtype: int64"
      ]
     },
     "execution_count": 19,
     "metadata": {},
     "output_type": "execute_result"
    }
   ],
   "source": [
    "# Double checking the wrong entries\n",
    "df[['BusinessUnit','Gender']].value_counts()"
   ]
  },
  {
   "cell_type": "markdown",
   "metadata": {},
   "source": [
    "<b>We replace all wrong entries with missing data to later replace those entries with each columns mode.<\\b>"
   ]
  },
  {
   "cell_type": "code",
   "execution_count": 20,
   "metadata": {
    "scrolled": true
   },
   "outputs": [
    {
     "data": {
      "text/plain": [
       "BusinessUnit         Gender\n",
       "CONSULTANTS          MALE      586\n",
       "                     FEMALE    383\n",
       "SALES                MALE      258\n",
       "                     FEMALE    189\n",
       "BUSINESS OPERATIONS  MALE       43\n",
       "                     FEMALE     22\n",
       "dtype: int64"
      ]
     },
     "execution_count": 20,
     "metadata": {},
     "output_type": "execute_result"
    }
   ],
   "source": [
    "# Locate and count all BusinessUnits by Gender\n",
    "df.loc[df['BusinessUnit'] == 'FEMALE', 'BusinessUnit'] = np.nan\n",
    "df.loc[df['Gender'] == 'SALES', 'Gender'] = np.nan\n",
    "df[['BusinessUnit','Gender']].value_counts()"
   ]
  },
  {
   "cell_type": "markdown",
   "metadata": {},
   "source": [
    "### 1.7 Missing values"
   ]
  },
  {
   "cell_type": "markdown",
   "metadata": {},
   "source": [
    "This section fixes all missing values. We first summarize all missing values per column, display the NaN rows and continue fixing those missing entries with their mode - for nominal and ordinal data types - and with their mean - for ratio/ continuous data. "
   ]
  },
  {
   "cell_type": "code",
   "execution_count": 21,
   "metadata": {
    "scrolled": false
   },
   "outputs": [
    {
     "data": {
      "text/plain": [
       "EmployeeID                  0\n",
       "Age                         0\n",
       "Resigned                    2\n",
       "BusinessTravel              0\n",
       "BusinessUnit                1\n",
       "EducationLevel              1\n",
       "Gender                      1\n",
       "JobSatisfaction             1\n",
       "MaritalStatus               0\n",
       "MonthlyIncome               3\n",
       "NumCompaniesWorked          0\n",
       "OverTime                    3\n",
       "PercentSalaryHike           0\n",
       "PerformanceRating           0\n",
       "AverageWeeklyHoursWorked    0\n",
       "TotalWorkingYears           0\n",
       "TrainingTimesLastYear       0\n",
       "WorkLifeBalance             1\n",
       "YearsAtCompany              0\n",
       "YearsInRole                 0\n",
       "YearsSinceLastPromotion     0\n",
       "YearsWithCurrManager        0\n",
       "dtype: int64"
      ]
     },
     "execution_count": 21,
     "metadata": {},
     "output_type": "execute_result"
    }
   ],
   "source": [
    "# Overview of missing values\n",
    "df.isna().sum()"
   ]
  },
  {
   "cell_type": "code",
   "execution_count": 22,
   "metadata": {},
   "outputs": [
    {
     "data": {
      "text/html": [
       "<div>\n",
       "<style scoped>\n",
       "    .dataframe tbody tr th:only-of-type {\n",
       "        vertical-align: middle;\n",
       "    }\n",
       "\n",
       "    .dataframe tbody tr th {\n",
       "        vertical-align: top;\n",
       "    }\n",
       "\n",
       "    .dataframe thead th {\n",
       "        text-align: right;\n",
       "    }\n",
       "</style>\n",
       "<table border=\"1\" class=\"dataframe\">\n",
       "  <thead>\n",
       "    <tr style=\"text-align: right;\">\n",
       "      <th></th>\n",
       "      <th>EmployeeID</th>\n",
       "      <th>Age</th>\n",
       "      <th>Resigned</th>\n",
       "      <th>BusinessTravel</th>\n",
       "      <th>BusinessUnit</th>\n",
       "      <th>EducationLevel</th>\n",
       "      <th>Gender</th>\n",
       "      <th>JobSatisfaction</th>\n",
       "      <th>MaritalStatus</th>\n",
       "      <th>MonthlyIncome</th>\n",
       "      <th>NumCompaniesWorked</th>\n",
       "      <th>OverTime</th>\n",
       "      <th>PercentSalaryHike</th>\n",
       "      <th>PerformanceRating</th>\n",
       "      <th>AverageWeeklyHoursWorked</th>\n",
       "      <th>TotalWorkingYears</th>\n",
       "      <th>TrainingTimesLastYear</th>\n",
       "      <th>WorkLifeBalance</th>\n",
       "      <th>YearsAtCompany</th>\n",
       "      <th>YearsInRole</th>\n",
       "      <th>YearsSinceLastPromotion</th>\n",
       "      <th>YearsWithCurrManager</th>\n",
       "    </tr>\n",
       "  </thead>\n",
       "  <tbody>\n",
       "    <tr>\n",
       "      <th>1470</th>\n",
       "      <td>9465</td>\n",
       "      <td>56</td>\n",
       "      <td>YES</td>\n",
       "      <td>TRAVEL_RARELY</td>\n",
       "      <td>NaN</td>\n",
       "      <td>2.0</td>\n",
       "      <td>NaN</td>\n",
       "      <td>4.0</td>\n",
       "      <td>SINGLE</td>\n",
       "      <td>4993.0</td>\n",
       "      <td>7</td>\n",
       "      <td>YES</td>\n",
       "      <td>6</td>\n",
       "      <td>3</td>\n",
       "      <td>64.0</td>\n",
       "      <td>8</td>\n",
       "      <td>0</td>\n",
       "      <td>1.0</td>\n",
       "      <td>6</td>\n",
       "      <td>4</td>\n",
       "      <td>0</td>\n",
       "      <td>5</td>\n",
       "    </tr>\n",
       "    <tr>\n",
       "      <th>1471</th>\n",
       "      <td>6264</td>\n",
       "      <td>21</td>\n",
       "      <td>NO</td>\n",
       "      <td>TRAVEL_RARELY</td>\n",
       "      <td>CONSULTANTS</td>\n",
       "      <td>2.0</td>\n",
       "      <td>MALE</td>\n",
       "      <td>4.0</td>\n",
       "      <td>SINGLE</td>\n",
       "      <td>NaN</td>\n",
       "      <td>1</td>\n",
       "      <td>NO</td>\n",
       "      <td>12</td>\n",
       "      <td>3</td>\n",
       "      <td>40.0</td>\n",
       "      <td>0</td>\n",
       "      <td>5</td>\n",
       "      <td>3.0</td>\n",
       "      <td>0</td>\n",
       "      <td>0</td>\n",
       "      <td>0</td>\n",
       "      <td>0</td>\n",
       "    </tr>\n",
       "    <tr>\n",
       "      <th>1472</th>\n",
       "      <td>5560</td>\n",
       "      <td>23</td>\n",
       "      <td>NO</td>\n",
       "      <td>TRAVEL_RARELY</td>\n",
       "      <td>CONSULTANTS</td>\n",
       "      <td>2.0</td>\n",
       "      <td>MALE</td>\n",
       "      <td>4.0</td>\n",
       "      <td>SINGLE</td>\n",
       "      <td>NaN</td>\n",
       "      <td>1</td>\n",
       "      <td>NO</td>\n",
       "      <td>10</td>\n",
       "      <td>4</td>\n",
       "      <td>40.0</td>\n",
       "      <td>0</td>\n",
       "      <td>2</td>\n",
       "      <td>3.0</td>\n",
       "      <td>1</td>\n",
       "      <td>1</td>\n",
       "      <td>0</td>\n",
       "      <td>1</td>\n",
       "    </tr>\n",
       "    <tr>\n",
       "      <th>1473</th>\n",
       "      <td>1215</td>\n",
       "      <td>26</td>\n",
       "      <td>NaN</td>\n",
       "      <td>TRAVEL_RARELY</td>\n",
       "      <td>BUSINESS OPERATIONS</td>\n",
       "      <td>NaN</td>\n",
       "      <td>FEMALE</td>\n",
       "      <td>NaN</td>\n",
       "      <td>MARRIED</td>\n",
       "      <td>NaN</td>\n",
       "      <td>1</td>\n",
       "      <td>NO</td>\n",
       "      <td>22</td>\n",
       "      <td>4</td>\n",
       "      <td>40.0</td>\n",
       "      <td>8</td>\n",
       "      <td>2</td>\n",
       "      <td>NaN</td>\n",
       "      <td>8</td>\n",
       "      <td>7</td>\n",
       "      <td>5</td>\n",
       "      <td>3</td>\n",
       "    </tr>\n",
       "    <tr>\n",
       "      <th>1474</th>\n",
       "      <td>5988</td>\n",
       "      <td>26</td>\n",
       "      <td>NaN</td>\n",
       "      <td>TRAVEL_RARELY</td>\n",
       "      <td>BUSINESS OPERATIONS</td>\n",
       "      <td>2.0</td>\n",
       "      <td>FEMALE</td>\n",
       "      <td>3.0</td>\n",
       "      <td>MARRIED</td>\n",
       "      <td>4023.0</td>\n",
       "      <td>1</td>\n",
       "      <td>NO</td>\n",
       "      <td>18</td>\n",
       "      <td>4</td>\n",
       "      <td>40.0</td>\n",
       "      <td>7</td>\n",
       "      <td>2</td>\n",
       "      <td>2.0</td>\n",
       "      <td>7</td>\n",
       "      <td>3</td>\n",
       "      <td>0</td>\n",
       "      <td>2</td>\n",
       "    </tr>\n",
       "    <tr>\n",
       "      <th>1478</th>\n",
       "      <td>3190</td>\n",
       "      <td>33</td>\n",
       "      <td>YES</td>\n",
       "      <td>TRAVEL_RARELY</td>\n",
       "      <td>CONSULTANTS</td>\n",
       "      <td>4.0</td>\n",
       "      <td>MALE</td>\n",
       "      <td>3.0</td>\n",
       "      <td>SINGLE</td>\n",
       "      <td>2686.0</td>\n",
       "      <td>1</td>\n",
       "      <td>NaN</td>\n",
       "      <td>13</td>\n",
       "      <td>3</td>\n",
       "      <td>40.0</td>\n",
       "      <td>10</td>\n",
       "      <td>2</td>\n",
       "      <td>2.0</td>\n",
       "      <td>10</td>\n",
       "      <td>8</td>\n",
       "      <td>8</td>\n",
       "      <td>10</td>\n",
       "    </tr>\n",
       "    <tr>\n",
       "      <th>1479</th>\n",
       "      <td>9017</td>\n",
       "      <td>38</td>\n",
       "      <td>NO</td>\n",
       "      <td>TRAVEL_RARELY</td>\n",
       "      <td>CONSULTANTS</td>\n",
       "      <td>2.0</td>\n",
       "      <td>FEMALE</td>\n",
       "      <td>3.0</td>\n",
       "      <td>MARRIED</td>\n",
       "      <td>3700.0</td>\n",
       "      <td>1</td>\n",
       "      <td>NaN</td>\n",
       "      <td>0</td>\n",
       "      <td>2</td>\n",
       "      <td>46.0</td>\n",
       "      <td>5</td>\n",
       "      <td>3</td>\n",
       "      <td>3.0</td>\n",
       "      <td>5</td>\n",
       "      <td>4</td>\n",
       "      <td>0</td>\n",
       "      <td>3</td>\n",
       "    </tr>\n",
       "    <tr>\n",
       "      <th>1480</th>\n",
       "      <td>2477</td>\n",
       "      <td>32</td>\n",
       "      <td>NO</td>\n",
       "      <td>TRAVEL_FREQUENTLY</td>\n",
       "      <td>SALES</td>\n",
       "      <td>4.0</td>\n",
       "      <td>MALE</td>\n",
       "      <td>4.0</td>\n",
       "      <td>SINGLE</td>\n",
       "      <td>4802.0</td>\n",
       "      <td>8</td>\n",
       "      <td>NaN</td>\n",
       "      <td>13</td>\n",
       "      <td>3</td>\n",
       "      <td>50.0</td>\n",
       "      <td>4</td>\n",
       "      <td>2</td>\n",
       "      <td>4.0</td>\n",
       "      <td>1</td>\n",
       "      <td>1</td>\n",
       "      <td>0</td>\n",
       "      <td>1</td>\n",
       "    </tr>\n",
       "  </tbody>\n",
       "</table>\n",
       "</div>"
      ],
      "text/plain": [
       "      EmployeeID Age Resigned     BusinessTravel         BusinessUnit  \\\n",
       "1470        9465  56      YES      TRAVEL_RARELY                  NaN   \n",
       "1471        6264  21       NO      TRAVEL_RARELY          CONSULTANTS   \n",
       "1472        5560  23       NO      TRAVEL_RARELY          CONSULTANTS   \n",
       "1473        1215  26      NaN      TRAVEL_RARELY  BUSINESS OPERATIONS   \n",
       "1474        5988  26      NaN      TRAVEL_RARELY  BUSINESS OPERATIONS   \n",
       "1478        3190  33      YES      TRAVEL_RARELY          CONSULTANTS   \n",
       "1479        9017  38       NO      TRAVEL_RARELY          CONSULTANTS   \n",
       "1480        2477  32       NO  TRAVEL_FREQUENTLY                SALES   \n",
       "\n",
       "      EducationLevel  Gender  JobSatisfaction MaritalStatus  MonthlyIncome  \\\n",
       "1470             2.0     NaN              4.0        SINGLE         4993.0   \n",
       "1471             2.0    MALE              4.0        SINGLE            NaN   \n",
       "1472             2.0    MALE              4.0        SINGLE            NaN   \n",
       "1473             NaN  FEMALE              NaN       MARRIED            NaN   \n",
       "1474             2.0  FEMALE              3.0       MARRIED         4023.0   \n",
       "1478             4.0    MALE              3.0        SINGLE         2686.0   \n",
       "1479             2.0  FEMALE              3.0       MARRIED         3700.0   \n",
       "1480             4.0    MALE              4.0        SINGLE         4802.0   \n",
       "\n",
       "      NumCompaniesWorked OverTime  PercentSalaryHike  PerformanceRating  \\\n",
       "1470                   7      YES                  6                  3   \n",
       "1471                   1       NO                 12                  3   \n",
       "1472                   1       NO                 10                  4   \n",
       "1473                   1       NO                 22                  4   \n",
       "1474                   1       NO                 18                  4   \n",
       "1478                   1      NaN                 13                  3   \n",
       "1479                   1      NaN                  0                  2   \n",
       "1480                   8      NaN                 13                  3   \n",
       "\n",
       "      AverageWeeklyHoursWorked  TotalWorkingYears  TrainingTimesLastYear  \\\n",
       "1470                      64.0                  8                      0   \n",
       "1471                      40.0                  0                      5   \n",
       "1472                      40.0                  0                      2   \n",
       "1473                      40.0                  8                      2   \n",
       "1474                      40.0                  7                      2   \n",
       "1478                      40.0                 10                      2   \n",
       "1479                      46.0                  5                      3   \n",
       "1480                      50.0                  4                      2   \n",
       "\n",
       "      WorkLifeBalance  YearsAtCompany  YearsInRole  YearsSinceLastPromotion  \\\n",
       "1470              1.0               6            4                        0   \n",
       "1471              3.0               0            0                        0   \n",
       "1472              3.0               1            1                        0   \n",
       "1473              NaN               8            7                        5   \n",
       "1474              2.0               7            3                        0   \n",
       "1478              2.0              10            8                        8   \n",
       "1479              3.0               5            4                        0   \n",
       "1480              4.0               1            1                        0   \n",
       "\n",
       "      YearsWithCurrManager  \n",
       "1470                     5  \n",
       "1471                     0  \n",
       "1472                     1  \n",
       "1473                     3  \n",
       "1474                     2  \n",
       "1478                    10  \n",
       "1479                     3  \n",
       "1480                     1  "
      ]
     },
     "execution_count": 22,
     "metadata": {},
     "output_type": "execute_result"
    }
   ],
   "source": [
    "# Displaying the rows with missing data\n",
    "df[df.isna().any(axis=1)]"
   ]
  },
  {
   "cell_type": "code",
   "execution_count": 23,
   "metadata": {},
   "outputs": [
    {
     "name": "stdout",
     "output_type": "stream",
     "text": [
      "Resigned           0\n",
      "BusinessUnit       0\n",
      "Gender             0\n",
      "OverTime           0\n",
      "EducationLevel     0\n",
      "JobSatisfaction    0\n",
      "WorkLifeBalance    0\n",
      "dtype: int64\n"
     ]
    }
   ],
   "source": [
    "# Fixing NaN in qualitative variables\n",
    "nom_ord_variable = ['Resigned', 'BusinessUnit', 'Gender', 'OverTime','EducationLevel','JobSatisfaction','WorkLifeBalance']\n",
    "for c_var in nom_ord_variable:\n",
    "    char_mode = df[c_var].mode()[0]\n",
    "    df[c_var].fillna(char_mode, inplace = True)\n",
    "print(df[nom_ord_variable].isna().sum())"
   ]
  },
  {
   "cell_type": "code",
   "execution_count": 24,
   "metadata": {
    "collapsed": true
   },
   "outputs": [],
   "source": [
    "#Fixing NaN in numerical/ratio variables\n",
    "df['MonthlyIncome'].fillna(df['MonthlyIncome'].mean(), inplace = True)"
   ]
  },
  {
   "cell_type": "code",
   "execution_count": 25,
   "metadata": {
    "scrolled": false
   },
   "outputs": [
    {
     "data": {
      "text/plain": [
       "EmployeeID                  False\n",
       "Age                         False\n",
       "Resigned                    False\n",
       "BusinessTravel              False\n",
       "BusinessUnit                False\n",
       "EducationLevel              False\n",
       "Gender                      False\n",
       "JobSatisfaction             False\n",
       "MaritalStatus               False\n",
       "MonthlyIncome               False\n",
       "NumCompaniesWorked          False\n",
       "OverTime                    False\n",
       "PercentSalaryHike           False\n",
       "PerformanceRating           False\n",
       "AverageWeeklyHoursWorked    False\n",
       "TotalWorkingYears           False\n",
       "TrainingTimesLastYear       False\n",
       "WorkLifeBalance             False\n",
       "YearsAtCompany              False\n",
       "YearsInRole                 False\n",
       "YearsSinceLastPromotion     False\n",
       "YearsWithCurrManager        False\n",
       "dtype: bool"
      ]
     },
     "execution_count": 25,
     "metadata": {},
     "output_type": "execute_result"
    }
   ],
   "source": [
    "# Check if any missing values are still left\n",
    "df.isna().any()"
   ]
  },
  {
   "cell_type": "markdown",
   "metadata": {},
   "source": [
    "### 1.8 Correcting variable types"
   ]
  },
  {
   "cell_type": "markdown",
   "metadata": {},
   "source": [
    "We correct all data types and perform type conversion after mapping explicit columns with an incorrect data type."
   ]
  },
  {
   "cell_type": "code",
   "execution_count": 26,
   "metadata": {},
   "outputs": [
    {
     "name": "stdout",
     "output_type": "stream",
     "text": [
      "<class 'pandas.core.frame.DataFrame'>\n",
      "RangeIndex: 1482 entries, 0 to 1481\n",
      "Data columns (total 22 columns):\n",
      " #   Column                    Non-Null Count  Dtype  \n",
      "---  ------                    --------------  -----  \n",
      " 0   EmployeeID                1482 non-null   int64  \n",
      " 1   Age                       1482 non-null   object \n",
      " 2   Resigned                  1482 non-null   object \n",
      " 3   BusinessTravel            1482 non-null   object \n",
      " 4   BusinessUnit              1482 non-null   object \n",
      " 5   EducationLevel            1482 non-null   float64\n",
      " 6   Gender                    1482 non-null   object \n",
      " 7   JobSatisfaction           1482 non-null   float64\n",
      " 8   MaritalStatus             1482 non-null   object \n",
      " 9   MonthlyIncome             1482 non-null   float64\n",
      " 10  NumCompaniesWorked        1482 non-null   int64  \n",
      " 11  OverTime                  1482 non-null   object \n",
      " 12  PercentSalaryHike         1482 non-null   int64  \n",
      " 13  PerformanceRating         1482 non-null   int64  \n",
      " 14  AverageWeeklyHoursWorked  1482 non-null   float64\n",
      " 15  TotalWorkingYears         1482 non-null   int64  \n",
      " 16  TrainingTimesLastYear     1482 non-null   int64  \n",
      " 17  WorkLifeBalance           1482 non-null   float64\n",
      " 18  YearsAtCompany            1482 non-null   int64  \n",
      " 19  YearsInRole               1482 non-null   int64  \n",
      " 20  YearsSinceLastPromotion   1482 non-null   int64  \n",
      " 21  YearsWithCurrManager      1482 non-null   int64  \n",
      "dtypes: float64(5), int64(10), object(7)\n",
      "memory usage: 254.8+ KB\n"
     ]
    }
   ],
   "source": [
    "# Display all variable types\n",
    "df.info()"
   ]
  },
  {
   "cell_type": "code",
   "execution_count": 27,
   "metadata": {
    "collapsed": true
   },
   "outputs": [],
   "source": [
    "# Change to qualitative/character data\n",
    "df['EmployeeID'] = df['EmployeeID'].astype('object')\n",
    "# Change to quantitative/numeric variables\n",
    "df[['Age','EducationLevel','WorkLifeBalance','PerformanceRating', 'JobSatisfaction']] = df[['Age','EducationLevel','WorkLifeBalance','PerformanceRating', 'JobSatisfaction']].astype('int64')\n",
    "# Change to Boolean, first map {YES to True} and {NO to False} for OverTime and Resigned\n",
    "df['OverTime'] = df['OverTime'].map({'YES':True, 'NO':False})\n",
    "df['Resigned'] = df['Resigned'].map({'YES':True, 'NO':False})\n",
    "df[['Resigned','OverTime']] = df[['Resigned','OverTime']].astype('bool')"
   ]
  },
  {
   "cell_type": "code",
   "execution_count": 28,
   "metadata": {},
   "outputs": [
    {
     "data": {
      "text/plain": [
       "EmployeeID                   object\n",
       "Age                           int64\n",
       "Resigned                       bool\n",
       "BusinessTravel               object\n",
       "BusinessUnit                 object\n",
       "EducationLevel                int64\n",
       "Gender                       object\n",
       "JobSatisfaction               int64\n",
       "MaritalStatus                object\n",
       "MonthlyIncome               float64\n",
       "NumCompaniesWorked            int64\n",
       "OverTime                       bool\n",
       "PercentSalaryHike             int64\n",
       "PerformanceRating             int64\n",
       "AverageWeeklyHoursWorked    float64\n",
       "TotalWorkingYears             int64\n",
       "TrainingTimesLastYear         int64\n",
       "WorkLifeBalance               int64\n",
       "YearsAtCompany                int64\n",
       "YearsInRole                   int64\n",
       "YearsSinceLastPromotion       int64\n",
       "YearsWithCurrManager          int64\n",
       "dtype: object"
      ]
     },
     "execution_count": 28,
     "metadata": {},
     "output_type": "execute_result"
    }
   ],
   "source": [
    "df.dtypes"
   ]
  },
  {
   "cell_type": "markdown",
   "metadata": {},
   "source": [
    "### 1.9 Sanity Check Part 2"
   ]
  },
  {
   "cell_type": "markdown",
   "metadata": {},
   "source": [
    "Lastly, we perform the second Part of the Sanity Check on our numerical data. We apply summary statistics onto our values to gain an insight of which columns contain errors and validate the result using a boxplot. We fix unrealistic outliers with the columns mean and revalidate the distribution by displaying another boxplot. We summarise the first part of our Assessment by displaying the last five rows of our cleaned and tidy dataset calling .tail()."
   ]
  },
  {
   "cell_type": "code",
   "execution_count": 29,
   "metadata": {},
   "outputs": [
    {
     "data": {
      "text/html": [
       "<div>\n",
       "<style scoped>\n",
       "    .dataframe tbody tr th:only-of-type {\n",
       "        vertical-align: middle;\n",
       "    }\n",
       "\n",
       "    .dataframe tbody tr th {\n",
       "        vertical-align: top;\n",
       "    }\n",
       "\n",
       "    .dataframe thead th {\n",
       "        text-align: right;\n",
       "    }\n",
       "</style>\n",
       "<table border=\"1\" class=\"dataframe\">\n",
       "  <thead>\n",
       "    <tr style=\"text-align: right;\">\n",
       "      <th></th>\n",
       "      <th>Age</th>\n",
       "      <th>EducationLevel</th>\n",
       "      <th>JobSatisfaction</th>\n",
       "      <th>MonthlyIncome</th>\n",
       "      <th>NumCompaniesWorked</th>\n",
       "      <th>PercentSalaryHike</th>\n",
       "      <th>PerformanceRating</th>\n",
       "      <th>AverageWeeklyHoursWorked</th>\n",
       "      <th>TotalWorkingYears</th>\n",
       "      <th>TrainingTimesLastYear</th>\n",
       "      <th>WorkLifeBalance</th>\n",
       "      <th>YearsAtCompany</th>\n",
       "      <th>YearsInRole</th>\n",
       "      <th>YearsSinceLastPromotion</th>\n",
       "      <th>YearsWithCurrManager</th>\n",
       "    </tr>\n",
       "  </thead>\n",
       "  <tbody>\n",
       "    <tr>\n",
       "      <th>count</th>\n",
       "      <td>1482.000000</td>\n",
       "      <td>1482.000000</td>\n",
       "      <td>1482.000000</td>\n",
       "      <td>1482.000000</td>\n",
       "      <td>1482.000000</td>\n",
       "      <td>1482.000000</td>\n",
       "      <td>1482.000000</td>\n",
       "      <td>1482.000000</td>\n",
       "      <td>1482.00000</td>\n",
       "      <td>1482.000000</td>\n",
       "      <td>1482.000000</td>\n",
       "      <td>1482.000000</td>\n",
       "      <td>1482.000000</td>\n",
       "      <td>1482.000000</td>\n",
       "      <td>1482.000000</td>\n",
       "    </tr>\n",
       "    <tr>\n",
       "      <th>mean</th>\n",
       "      <td>36.890013</td>\n",
       "      <td>2.913630</td>\n",
       "      <td>2.734143</td>\n",
       "      <td>6487.800541</td>\n",
       "      <td>2.695682</td>\n",
       "      <td>15.186910</td>\n",
       "      <td>3.153846</td>\n",
       "      <td>43.298246</td>\n",
       "      <td>11.24359</td>\n",
       "      <td>2.795547</td>\n",
       "      <td>2.761808</td>\n",
       "      <td>6.997976</td>\n",
       "      <td>4.230769</td>\n",
       "      <td>2.191633</td>\n",
       "      <td>4.119433</td>\n",
       "    </tr>\n",
       "    <tr>\n",
       "      <th>std</th>\n",
       "      <td>9.143432</td>\n",
       "      <td>1.023342</td>\n",
       "      <td>1.100995</td>\n",
       "      <td>4693.303436</td>\n",
       "      <td>2.502362</td>\n",
       "      <td>3.686868</td>\n",
       "      <td>0.362789</td>\n",
       "      <td>10.733283</td>\n",
       "      <td>7.76821</td>\n",
       "      <td>1.288565</td>\n",
       "      <td>0.707306</td>\n",
       "      <td>6.112108</td>\n",
       "      <td>3.618830</td>\n",
       "      <td>3.225864</td>\n",
       "      <td>3.563247</td>\n",
       "    </tr>\n",
       "    <tr>\n",
       "      <th>min</th>\n",
       "      <td>18.000000</td>\n",
       "      <td>1.000000</td>\n",
       "      <td>1.000000</td>\n",
       "      <td>1009.000000</td>\n",
       "      <td>0.000000</td>\n",
       "      <td>0.000000</td>\n",
       "      <td>2.000000</td>\n",
       "      <td>40.000000</td>\n",
       "      <td>0.00000</td>\n",
       "      <td>0.000000</td>\n",
       "      <td>1.000000</td>\n",
       "      <td>0.000000</td>\n",
       "      <td>0.000000</td>\n",
       "      <td>0.000000</td>\n",
       "      <td>0.000000</td>\n",
       "    </tr>\n",
       "    <tr>\n",
       "      <th>25%</th>\n",
       "      <td>30.000000</td>\n",
       "      <td>2.000000</td>\n",
       "      <td>2.000000</td>\n",
       "      <td>2914.750000</td>\n",
       "      <td>1.000000</td>\n",
       "      <td>12.000000</td>\n",
       "      <td>3.000000</td>\n",
       "      <td>40.000000</td>\n",
       "      <td>6.00000</td>\n",
       "      <td>2.000000</td>\n",
       "      <td>2.000000</td>\n",
       "      <td>3.000000</td>\n",
       "      <td>2.000000</td>\n",
       "      <td>0.000000</td>\n",
       "      <td>2.000000</td>\n",
       "    </tr>\n",
       "    <tr>\n",
       "      <th>50%</th>\n",
       "      <td>36.000000</td>\n",
       "      <td>3.000000</td>\n",
       "      <td>3.000000</td>\n",
       "      <td>4907.000000</td>\n",
       "      <td>2.000000</td>\n",
       "      <td>14.000000</td>\n",
       "      <td>3.000000</td>\n",
       "      <td>40.000000</td>\n",
       "      <td>10.00000</td>\n",
       "      <td>3.000000</td>\n",
       "      <td>3.000000</td>\n",
       "      <td>5.000000</td>\n",
       "      <td>3.000000</td>\n",
       "      <td>1.000000</td>\n",
       "      <td>3.000000</td>\n",
       "    </tr>\n",
       "    <tr>\n",
       "      <th>75%</th>\n",
       "      <td>43.000000</td>\n",
       "      <td>4.000000</td>\n",
       "      <td>4.000000</td>\n",
       "      <td>8307.750000</td>\n",
       "      <td>4.000000</td>\n",
       "      <td>18.000000</td>\n",
       "      <td>3.000000</td>\n",
       "      <td>47.000000</td>\n",
       "      <td>15.00000</td>\n",
       "      <td>3.000000</td>\n",
       "      <td>3.000000</td>\n",
       "      <td>9.000000</td>\n",
       "      <td>7.000000</td>\n",
       "      <td>3.000000</td>\n",
       "      <td>7.000000</td>\n",
       "    </tr>\n",
       "    <tr>\n",
       "      <th>max</th>\n",
       "      <td>60.000000</td>\n",
       "      <td>5.000000</td>\n",
       "      <td>4.000000</td>\n",
       "      <td>19999.000000</td>\n",
       "      <td>9.000000</td>\n",
       "      <td>25.000000</td>\n",
       "      <td>4.000000</td>\n",
       "      <td>400.000000</td>\n",
       "      <td>40.00000</td>\n",
       "      <td>6.000000</td>\n",
       "      <td>4.000000</td>\n",
       "      <td>40.000000</td>\n",
       "      <td>18.000000</td>\n",
       "      <td>15.000000</td>\n",
       "      <td>17.000000</td>\n",
       "    </tr>\n",
       "  </tbody>\n",
       "</table>\n",
       "</div>"
      ],
      "text/plain": [
       "               Age  EducationLevel  JobSatisfaction  MonthlyIncome  \\\n",
       "count  1482.000000     1482.000000      1482.000000    1482.000000   \n",
       "mean     36.890013        2.913630         2.734143    6487.800541   \n",
       "std       9.143432        1.023342         1.100995    4693.303436   \n",
       "min      18.000000        1.000000         1.000000    1009.000000   \n",
       "25%      30.000000        2.000000         2.000000    2914.750000   \n",
       "50%      36.000000        3.000000         3.000000    4907.000000   \n",
       "75%      43.000000        4.000000         4.000000    8307.750000   \n",
       "max      60.000000        5.000000         4.000000   19999.000000   \n",
       "\n",
       "       NumCompaniesWorked  PercentSalaryHike  PerformanceRating  \\\n",
       "count         1482.000000        1482.000000        1482.000000   \n",
       "mean             2.695682          15.186910           3.153846   \n",
       "std              2.502362           3.686868           0.362789   \n",
       "min              0.000000           0.000000           2.000000   \n",
       "25%              1.000000          12.000000           3.000000   \n",
       "50%              2.000000          14.000000           3.000000   \n",
       "75%              4.000000          18.000000           3.000000   \n",
       "max              9.000000          25.000000           4.000000   \n",
       "\n",
       "       AverageWeeklyHoursWorked  TotalWorkingYears  TrainingTimesLastYear  \\\n",
       "count               1482.000000         1482.00000            1482.000000   \n",
       "mean                  43.298246           11.24359               2.795547   \n",
       "std                   10.733283            7.76821               1.288565   \n",
       "min                   40.000000            0.00000               0.000000   \n",
       "25%                   40.000000            6.00000               2.000000   \n",
       "50%                   40.000000           10.00000               3.000000   \n",
       "75%                   47.000000           15.00000               3.000000   \n",
       "max                  400.000000           40.00000               6.000000   \n",
       "\n",
       "       WorkLifeBalance  YearsAtCompany  YearsInRole  YearsSinceLastPromotion  \\\n",
       "count      1482.000000     1482.000000  1482.000000              1482.000000   \n",
       "mean          2.761808        6.997976     4.230769                 2.191633   \n",
       "std           0.707306        6.112108     3.618830                 3.225864   \n",
       "min           1.000000        0.000000     0.000000                 0.000000   \n",
       "25%           2.000000        3.000000     2.000000                 0.000000   \n",
       "50%           3.000000        5.000000     3.000000                 1.000000   \n",
       "75%           3.000000        9.000000     7.000000                 3.000000   \n",
       "max           4.000000       40.000000    18.000000                15.000000   \n",
       "\n",
       "       YearsWithCurrManager  \n",
       "count           1482.000000  \n",
       "mean               4.119433  \n",
       "std                3.563247  \n",
       "min                0.000000  \n",
       "25%                2.000000  \n",
       "50%                3.000000  \n",
       "75%                7.000000  \n",
       "max               17.000000  "
      ]
     },
     "execution_count": 29,
     "metadata": {},
     "output_type": "execute_result"
    }
   ],
   "source": [
    "# Checking Outlier\n",
    "df.describe()"
   ]
  },
  {
   "cell_type": "code",
   "execution_count": 30,
   "metadata": {},
   "outputs": [
    {
     "data": {
      "image/png": "[encoded data removed]",
      "text/plain": [
       "<Figure size 432x288 with 1 Axes>"
      ]
     },
     "metadata": {
      "needs_background": "light"
     },
     "output_type": "display_data"
    }
   ],
   "source": [
    "# Columns 'AverageWeeklyHoursWorked' has a max value of 400 hours\n",
    "g = sns.boxplot(data = df, y ='AverageWeeklyHoursWorked')\n",
    "g.set_title(\"Boxplot of Average Weekly Hours Worked\")\n",
    "g.set(ylabel = \"Average Weekly Hours\")\n",
    "plt.show()"
   ]
  },
  {
   "cell_type": "code",
   "execution_count": 31,
   "metadata": {},
   "outputs": [
    {
     "name": "stdout",
     "output_type": "stream",
     "text": [
      "The new Maximum Average Number of Weekly Hourse Worded is 71.0\n"
     ]
    }
   ],
   "source": [
    "# Columns 'AverageWeeklyHoursWorked' has a max value of 400 hours\n",
    "df['AverageWeeklyHoursWorked'] = df['AverageWeeklyHoursWorked'].replace(\\\n",
    "    df['AverageWeeklyHoursWorked'].max(), df['AverageWeeklyHoursWorked'].median())\n",
    "print(\n",
    "    f\"The new Maximum Average Number of Weekly Hourse Worded is {df['AverageWeeklyHoursWorked'].max()}\")"
   ]
  },
  {
   "cell_type": "code",
   "execution_count": 32,
   "metadata": {
    "scrolled": true
   },
   "outputs": [
    {
     "data": {
      "image/png": "[encoded data removed]",
      "text/plain": [
       "<Figure size 432x288 with 1 Axes>"
      ]
     },
     "metadata": {
      "needs_background": "light"
     },
     "output_type": "display_data"
    }
   ],
   "source": [
    "# Boxplots before and after the unrealistics datapoint fix\n",
    "g1 = sns.boxplot(data=df, y='AverageWeeklyHoursWorked')\n",
    "g1.set_title(\"Boxplot of Average Weekly Hours Worked After The Outlier Fix\")\n",
    "g1.set(ylabel=\"Average Weekly Hours\")\n",
    "plt.show()"
   ]
  },
  {
   "cell_type": "code",
   "execution_count": 33,
   "metadata": {},
   "outputs": [
    {
     "data": {
      "text/html": [
       "<div>\n",
       "<style scoped>\n",
       "    .dataframe tbody tr th:only-of-type {\n",
       "        vertical-align: middle;\n",
       "    }\n",
       "\n",
       "    .dataframe tbody tr th {\n",
       "        vertical-align: top;\n",
       "    }\n",
       "\n",
       "    .dataframe thead th {\n",
       "        text-align: right;\n",
       "    }\n",
       "</style>\n",
       "<table border=\"1\" class=\"dataframe\">\n",
       "  <thead>\n",
       "    <tr style=\"text-align: right;\">\n",
       "      <th></th>\n",
       "      <th>EmployeeID</th>\n",
       "      <th>Age</th>\n",
       "      <th>Resigned</th>\n",
       "      <th>BusinessTravel</th>\n",
       "      <th>BusinessUnit</th>\n",
       "      <th>EducationLevel</th>\n",
       "      <th>Gender</th>\n",
       "      <th>JobSatisfaction</th>\n",
       "      <th>MaritalStatus</th>\n",
       "      <th>MonthlyIncome</th>\n",
       "      <th>NumCompaniesWorked</th>\n",
       "      <th>OverTime</th>\n",
       "      <th>PercentSalaryHike</th>\n",
       "      <th>PerformanceRating</th>\n",
       "      <th>AverageWeeklyHoursWorked</th>\n",
       "      <th>TotalWorkingYears</th>\n",
       "      <th>TrainingTimesLastYear</th>\n",
       "      <th>WorkLifeBalance</th>\n",
       "      <th>YearsAtCompany</th>\n",
       "      <th>YearsInRole</th>\n",
       "      <th>YearsSinceLastPromotion</th>\n",
       "      <th>YearsWithCurrManager</th>\n",
       "    </tr>\n",
       "  </thead>\n",
       "  <tbody>\n",
       "    <tr>\n",
       "      <th>1477</th>\n",
       "      <td>6680</td>\n",
       "      <td>40</td>\n",
       "      <td>False</td>\n",
       "      <td>NON-TRAVEL</td>\n",
       "      <td>CONSULTANTS</td>\n",
       "      <td>4</td>\n",
       "      <td>MALE</td>\n",
       "      <td>3</td>\n",
       "      <td>DIVORCED</td>\n",
       "      <td>3935.0</td>\n",
       "      <td>3</td>\n",
       "      <td>False</td>\n",
       "      <td>11</td>\n",
       "      <td>3</td>\n",
       "      <td>40.0</td>\n",
       "      <td>11</td>\n",
       "      <td>2</td>\n",
       "      <td>4</td>\n",
       "      <td>8</td>\n",
       "      <td>6</td>\n",
       "      <td>1</td>\n",
       "      <td>6</td>\n",
       "    </tr>\n",
       "    <tr>\n",
       "      <th>1478</th>\n",
       "      <td>3190</td>\n",
       "      <td>33</td>\n",
       "      <td>True</td>\n",
       "      <td>TRAVEL_RARELY</td>\n",
       "      <td>CONSULTANTS</td>\n",
       "      <td>4</td>\n",
       "      <td>MALE</td>\n",
       "      <td>3</td>\n",
       "      <td>SINGLE</td>\n",
       "      <td>2686.0</td>\n",
       "      <td>1</td>\n",
       "      <td>False</td>\n",
       "      <td>13</td>\n",
       "      <td>3</td>\n",
       "      <td>40.0</td>\n",
       "      <td>10</td>\n",
       "      <td>2</td>\n",
       "      <td>2</td>\n",
       "      <td>10</td>\n",
       "      <td>8</td>\n",
       "      <td>8</td>\n",
       "      <td>10</td>\n",
       "    </tr>\n",
       "    <tr>\n",
       "      <th>1479</th>\n",
       "      <td>9017</td>\n",
       "      <td>38</td>\n",
       "      <td>False</td>\n",
       "      <td>TRAVEL_RARELY</td>\n",
       "      <td>CONSULTANTS</td>\n",
       "      <td>2</td>\n",
       "      <td>FEMALE</td>\n",
       "      <td>3</td>\n",
       "      <td>MARRIED</td>\n",
       "      <td>3700.0</td>\n",
       "      <td>1</td>\n",
       "      <td>False</td>\n",
       "      <td>0</td>\n",
       "      <td>2</td>\n",
       "      <td>46.0</td>\n",
       "      <td>5</td>\n",
       "      <td>3</td>\n",
       "      <td>3</td>\n",
       "      <td>5</td>\n",
       "      <td>4</td>\n",
       "      <td>0</td>\n",
       "      <td>3</td>\n",
       "    </tr>\n",
       "    <tr>\n",
       "      <th>1480</th>\n",
       "      <td>2477</td>\n",
       "      <td>32</td>\n",
       "      <td>False</td>\n",
       "      <td>TRAVEL_FREQUENTLY</td>\n",
       "      <td>SALES</td>\n",
       "      <td>4</td>\n",
       "      <td>MALE</td>\n",
       "      <td>4</td>\n",
       "      <td>SINGLE</td>\n",
       "      <td>4802.0</td>\n",
       "      <td>8</td>\n",
       "      <td>False</td>\n",
       "      <td>13</td>\n",
       "      <td>3</td>\n",
       "      <td>50.0</td>\n",
       "      <td>4</td>\n",
       "      <td>2</td>\n",
       "      <td>4</td>\n",
       "      <td>1</td>\n",
       "      <td>1</td>\n",
       "      <td>0</td>\n",
       "      <td>1</td>\n",
       "    </tr>\n",
       "    <tr>\n",
       "      <th>1481</th>\n",
       "      <td>3238</td>\n",
       "      <td>36</td>\n",
       "      <td>False</td>\n",
       "      <td>NON-TRAVEL</td>\n",
       "      <td>CONSULTANTS</td>\n",
       "      <td>4</td>\n",
       "      <td>FEMALE</td>\n",
       "      <td>3</td>\n",
       "      <td>MARRIED</td>\n",
       "      <td>4802.0</td>\n",
       "      <td>2</td>\n",
       "      <td>False</td>\n",
       "      <td>14</td>\n",
       "      <td>3</td>\n",
       "      <td>40.0</td>\n",
       "      <td>15</td>\n",
       "      <td>3</td>\n",
       "      <td>3</td>\n",
       "      <td>13</td>\n",
       "      <td>10</td>\n",
       "      <td>10</td>\n",
       "      <td>5</td>\n",
       "    </tr>\n",
       "  </tbody>\n",
       "</table>\n",
       "</div>"
      ],
      "text/plain": [
       "     EmployeeID  Age  Resigned     BusinessTravel BusinessUnit  \\\n",
       "1477       6680   40     False         NON-TRAVEL  CONSULTANTS   \n",
       "1478       3190   33      True      TRAVEL_RARELY  CONSULTANTS   \n",
       "1479       9017   38     False      TRAVEL_RARELY  CONSULTANTS   \n",
       "1480       2477   32     False  TRAVEL_FREQUENTLY        SALES   \n",
       "1481       3238   36     False         NON-TRAVEL  CONSULTANTS   \n",
       "\n",
       "      EducationLevel  Gender  JobSatisfaction MaritalStatus  MonthlyIncome  \\\n",
       "1477               4    MALE                3      DIVORCED         3935.0   \n",
       "1478               4    MALE                3        SINGLE         2686.0   \n",
       "1479               2  FEMALE                3       MARRIED         3700.0   \n",
       "1480               4    MALE                4        SINGLE         4802.0   \n",
       "1481               4  FEMALE                3       MARRIED         4802.0   \n",
       "\n",
       "      NumCompaniesWorked  OverTime  PercentSalaryHike  PerformanceRating  \\\n",
       "1477                   3     False                 11                  3   \n",
       "1478                   1     False                 13                  3   \n",
       "1479                   1     False                  0                  2   \n",
       "1480                   8     False                 13                  3   \n",
       "1481                   2     False                 14                  3   \n",
       "\n",
       "      AverageWeeklyHoursWorked  TotalWorkingYears  TrainingTimesLastYear  \\\n",
       "1477                      40.0                 11                      2   \n",
       "1478                      40.0                 10                      2   \n",
       "1479                      46.0                  5                      3   \n",
       "1480                      50.0                  4                      2   \n",
       "1481                      40.0                 15                      3   \n",
       "\n",
       "      WorkLifeBalance  YearsAtCompany  YearsInRole  YearsSinceLastPromotion  \\\n",
       "1477                4               8            6                        1   \n",
       "1478                2              10            8                        8   \n",
       "1479                3               5            4                        0   \n",
       "1480                4               1            1                        0   \n",
       "1481                3              13           10                       10   \n",
       "\n",
       "      YearsWithCurrManager  \n",
       "1477                     6  \n",
       "1478                    10  \n",
       "1479                     3  \n",
       "1480                     1  \n",
       "1481                     5  "
      ]
     },
     "execution_count": 33,
     "metadata": {},
     "output_type": "execute_result"
    }
   ],
   "source": [
    "# Finalised dataset\n",
    "df.tail()"
   ]
  },
  {
   "cell_type": "code",
   "execution_count": 34,
   "metadata": {
    "collapsed": true
   },
   "outputs": [],
   "source": [
    "# Export the cleaned dataset as a CSV file\n",
    "df.to_csv('S4115699.csv')"
   ]
  },
  {
   "cell_type": "markdown",
   "metadata": {
    "collapsed": true
   },
   "source": [
    "# 2. Exploratory Data Analysis (EDA)\n",
    "## 2.1 Analysis on three variables"
   ]
  },
  {
   "cell_type": "markdown",
   "metadata": {},
   "source": [
    "We display the three columns for our visualisations, BusinessUnit will be visualised using a countplot that concentrates on nominal data, EducationLevel will be displayed with a boxplot that can process ordinal data and MonthlyIncome will be visualised using a Distribution Plot, which is designed for ratio data. "
   ]
  },
  {
   "cell_type": "code",
   "execution_count": 35,
   "metadata": {},
   "outputs": [
    {
     "data": {
      "text/html": [
       "<div>\n",
       "<style scoped>\n",
       "    .dataframe tbody tr th:only-of-type {\n",
       "        vertical-align: middle;\n",
       "    }\n",
       "\n",
       "    .dataframe tbody tr th {\n",
       "        vertical-align: top;\n",
       "    }\n",
       "\n",
       "    .dataframe thead th {\n",
       "        text-align: right;\n",
       "    }\n",
       "</style>\n",
       "<table border=\"1\" class=\"dataframe\">\n",
       "  <thead>\n",
       "    <tr style=\"text-align: right;\">\n",
       "      <th></th>\n",
       "      <th>BusinessUnit</th>\n",
       "      <th>EducationLevel</th>\n",
       "      <th>MonthlyIncome</th>\n",
       "    </tr>\n",
       "  </thead>\n",
       "  <tbody>\n",
       "    <tr>\n",
       "      <th>0</th>\n",
       "      <td>SALES</td>\n",
       "      <td>2</td>\n",
       "      <td>5993.0</td>\n",
       "    </tr>\n",
       "    <tr>\n",
       "      <th>1</th>\n",
       "      <td>CONSULTANTS</td>\n",
       "      <td>1</td>\n",
       "      <td>5130.0</td>\n",
       "    </tr>\n",
       "    <tr>\n",
       "      <th>2</th>\n",
       "      <td>CONSULTANTS</td>\n",
       "      <td>2</td>\n",
       "      <td>2090.0</td>\n",
       "    </tr>\n",
       "    <tr>\n",
       "      <th>3</th>\n",
       "      <td>CONSULTANTS</td>\n",
       "      <td>4</td>\n",
       "      <td>2909.0</td>\n",
       "    </tr>\n",
       "    <tr>\n",
       "      <th>4</th>\n",
       "      <td>CONSULTANTS</td>\n",
       "      <td>1</td>\n",
       "      <td>3468.0</td>\n",
       "    </tr>\n",
       "  </tbody>\n",
       "</table>\n",
       "</div>"
      ],
      "text/plain": [
       "  BusinessUnit  EducationLevel  MonthlyIncome\n",
       "0        SALES               2         5993.0\n",
       "1  CONSULTANTS               1         5130.0\n",
       "2  CONSULTANTS               2         2090.0\n",
       "3  CONSULTANTS               4         2909.0\n",
       "4  CONSULTANTS               1         3468.0"
      ]
     },
     "execution_count": 35,
     "metadata": {},
     "output_type": "execute_result"
    }
   ],
   "source": [
    "# Selecting three columns\n",
    "df[['BusinessUnit', 'EducationLevel', 'MonthlyIncome']].head()"
   ]
  },
  {
   "cell_type": "code",
   "execution_count": 36,
   "metadata": {
    "scrolled": false
   },
   "outputs": [
    {
     "data": {
      "image/png": "[encoded data removed]",
      "text/plain": [
       "<Figure size 576x432 with 1 Axes>"
      ]
     },
     "metadata": {
      "needs_background": "light"
     },
     "output_type": "display_data"
    }
   ],
   "source": [
    "# How many Business Units does the company have - Exploration of a nominal variable\n",
    "plt.figure(figsize=(8,6))\n",
    "sns.countplot(x='BusinessUnit', data = df, palette = 'Set2')\n",
    "plt.title('Distribution of Business Units', fontsize=17, fontweight = 'bold')\n",
    "plt.xlabel('Business Unit', fontsize=15)\n",
    "plt.ylabel('Count', fontsize=15)\n",
    "plt.xticks(rotation = 40)\n",
    "plt.grid()\n",
    "plt.show()"
   ]
  },
  {
   "cell_type": "code",
   "execution_count": 37,
   "metadata": {},
   "outputs": [
    {
     "data": {
      "image/png": "[encoded data removed]",
      "text/plain": [
       "<Figure size 576x432 with 1 Axes>"
      ]
     },
     "metadata": {
      "needs_background": "light"
     },
     "output_type": "display_data"
    }
   ],
   "source": [
    "# Having a closer look into Education Level by Sex\n",
    "plt.figure(figsize = (8,6))\n",
    "sns.boxplot(data = df, x = 'Gender', y = 'EducationLevel', palette = 'Set1')\n",
    "plt.title('Boxplot of Education Level by Gender', fontsize = 17, fontweight = 'bold')\n",
    "plt.xlabel('Gender', fontsize = 15)\n",
    "plt.ylabel('Education Level', fontsize = 15)\n",
    "plt.grid()\n",
    "plt.show()"
   ]
  },
  {
   "cell_type": "code",
   "execution_count": 38,
   "metadata": {},
   "outputs": [
    {
     "data": {
      "image/png": "[encoded data removed]",
      "text/plain": [
       "<Figure size 576x432 with 1 Axes>"
      ]
     },
     "metadata": {
      "needs_background": "light"
     },
     "output_type": "display_data"
    }
   ],
   "source": [
    "# Visualise the distribution of Monthly Income\n",
    "plt.figure(figsize = (8,6))\n",
    "sns.kdeplot(data = df, x = 'MonthlyIncome', cut=0)\n",
    "plt.title('Distribution of Monthly Income', fontsize = 17, fontweight = 'bold')\n",
    "plt.xlabel('Monthly Income', fontsize = 15)\n",
    "plt.ylabel('Density / Distribtuion', fontsize = 15)\n",
    "plt.grid()\n",
    "plt.legend('MonthlyIncome')\n",
    "plt.show()"
   ]
  },
  {
   "cell_type": "markdown",
   "metadata": {
    "collapsed": true
   },
   "source": [
    "## 2.2 Relationships between variables"
   ]
  },
  {
   "cell_type": "markdown",
   "metadata": {
    "collapsed": true
   },
   "source": [
    "### 2.2.1 Relation between Years At Company and Monthly Income"
   ]
  },
  {
   "cell_type": "markdown",
   "metadata": {},
   "source": [
    "The below three plots display the Relationship and Correlations between variables to gain further insights why Consultants leave the company and how to improve the current company situation. "
   ]
  },
  {
   "cell_type": "code",
   "execution_count": 39,
   "metadata": {},
   "outputs": [
    {
     "data": {
      "image/png": "[encoded data removed]",
      "text/plain": [
       "<Figure size 576x432 with 1 Axes>"
      ]
     },
     "metadata": {
      "needs_background": "light"
     },
     "output_type": "display_data"
    }
   ],
   "source": [
    "# Visualise Monthly Income non-ideal attempt\n",
    "plt.figure(figsize = (8,6))\n",
    "p = sns.barplot(data = df, x = 'MonthlyIncome', y = 'YearsAtCompany', hue = 'Gender')\n",
    "p.set_title('Overview Monthly Income by Years At Company', fontsize = 17)\n",
    "p.set_xlabel('Monthly Income', fontsize = 15)\n",
    "p.set_ylabel('Years At Company', fontsize = 15)\n",
    "plt.show()"
   ]
  },
  {
   "cell_type": "markdown",
   "metadata": {},
   "source": [
    "<b>As the above visualisation is very confusing, we simplify it's output by grouping Montly Income into Income categories. </b>"
   ]
  },
  {
   "cell_type": "code",
   "execution_count": 40,
   "metadata": {},
   "outputs": [
    {
     "data": {
      "image/png": "[encoded data removed]",
      "text/plain": [
       "<Figure size 576x432 with 1 Axes>"
      ]
     },
     "metadata": {
      "needs_background": "light"
     },
     "output_type": "display_data"
    }
   ],
   "source": [
    "# Add a new variable with binned 'MonthlyIncome'\n",
    "bins = [0, 2500, 5000, 7500, 10000, 12500, 15000, 17500, 20000]\n",
    "labels = ['0-2500', '2500-5000', '5000-7500', '7500-10000', '10000-12500', '12500-15000', '15000-17500', '17500-20000']\n",
    "df['MonthlyIncome_Grouped'] = pd.cut(df['MonthlyIncome'], bins = bins, labels = labels, right = False)\n",
    "\n",
    "# Visualise Grouped Monthly Income Variable For Better Interpretation\n",
    "plt.figure(figsize = (8,6))\n",
    "p = sns.barplot(data=df, x='MonthlyIncome_Grouped',y='YearsAtCompany', hue='Gender')\n",
    "p.set_title('Overview Monthly Income by Years At Company', fontsize = 17, fontweight = 'bold')\n",
    "p.set_xlabel('Monthly Income', fontsize = 15)\n",
    "p.set_ylabel('Years At Company', fontsize = 15)\n",
    "plt.xticks(rotation = 45)\n",
    "plt.legend(title = 'Gender', fontsize = 12)\n",
    "plt.grid()\n",
    "plt.show()"
   ]
  },
  {
   "cell_type": "markdown",
   "metadata": {},
   "source": [
    "### 2.2.2 Correlation between MonthlyIncome and EducationLevel"
   ]
  },
  {
   "cell_type": "markdown",
   "metadata": {},
   "source": [
    "To display the Correlation between two variables, the Scatterplot might be the best choice. We further discover if the Education Level or Age have an impact on the Percent Salary Hike to enhance motivation for Consultants."
   ]
  },
  {
   "cell_type": "code",
   "execution_count": 41,
   "metadata": {},
   "outputs": [
    {
     "data": {
      "image/png": "[encoded data removed]",
      "text/plain": [
       "<Figure size 576x432 with 1 Axes>"
      ]
     },
     "metadata": {
      "needs_background": "light"
     },
     "output_type": "display_data"
    }
   ],
   "source": [
    "### 2.2.2 Correlation between MonthlyIncome and EducationLevel\n",
    "plt.figure(figsize=(8,6))\n",
    "sns.scatterplot(data = df, x = 'Age', y = 'PercentSalaryHike', hue = 'EducationLevel')\n",
    "plt.title('Age by Percent Salary Hike \\ncolored by Education Level', \\\n",
    "          fontsize = 17, fontweight = 'bold')\n",
    "plt.xlabel('Age', fontsize = 15)\n",
    "plt.ylabel('PercentSalaryHike', fontsize = 15)\n",
    "plt.grid()\n",
    "plt.plot()\n",
    "plt.show()"
   ]
  },
  {
   "cell_type": "code",
   "execution_count": 42,
   "metadata": {
    "scrolled": true
   },
   "outputs": [
    {
     "data": {
      "text/html": [
       "<div>\n",
       "<style scoped>\n",
       "    .dataframe tbody tr th:only-of-type {\n",
       "        vertical-align: middle;\n",
       "    }\n",
       "\n",
       "    .dataframe tbody tr th {\n",
       "        vertical-align: top;\n",
       "    }\n",
       "\n",
       "    .dataframe thead th {\n",
       "        text-align: right;\n",
       "    }\n",
       "</style>\n",
       "<table border=\"1\" class=\"dataframe\">\n",
       "  <thead>\n",
       "    <tr style=\"text-align: right;\">\n",
       "      <th></th>\n",
       "      <th>Age</th>\n",
       "      <th>PercentSalaryHike</th>\n",
       "      <th>EducationLevel</th>\n",
       "    </tr>\n",
       "  </thead>\n",
       "  <tbody>\n",
       "    <tr>\n",
       "      <th>Age</th>\n",
       "      <td>1.000000</td>\n",
       "      <td>-0.000311</td>\n",
       "      <td>0.206958</td>\n",
       "    </tr>\n",
       "    <tr>\n",
       "      <th>PercentSalaryHike</th>\n",
       "      <td>-0.000311</td>\n",
       "      <td>1.000000</td>\n",
       "      <td>-0.008425</td>\n",
       "    </tr>\n",
       "    <tr>\n",
       "      <th>EducationLevel</th>\n",
       "      <td>0.206958</td>\n",
       "      <td>-0.008425</td>\n",
       "      <td>1.000000</td>\n",
       "    </tr>\n",
       "  </tbody>\n",
       "</table>\n",
       "</div>"
      ],
      "text/plain": [
       "                        Age  PercentSalaryHike  EducationLevel\n",
       "Age                1.000000          -0.000311        0.206958\n",
       "PercentSalaryHike -0.000311           1.000000       -0.008425\n",
       "EducationLevel     0.206958          -0.008425        1.000000"
      ]
     },
     "execution_count": 42,
     "metadata": {},
     "output_type": "execute_result"
    }
   ],
   "source": [
    "# Display the correlation between above visualised variables\n",
    "df[['Age','PercentSalaryHike','EducationLevel']].corr()"
   ]
  },
  {
   "cell_type": "markdown",
   "metadata": {},
   "source": [
    "### 2.2.3 Correlation Between Eight Selected Variables Of All Data Kinds"
   ]
  },
  {
   "cell_type": "markdown",
   "metadata": {},
   "source": [
    "The below Heatmap shows the Correlation of all nominal data. It is a powerful way of discovering the Relationships between different fators in one convenient plot. It also shows in one convenient visualisation what company culture Revolution Consulting values."
   ]
  },
  {
   "cell_type": "code",
   "execution_count": 43,
   "metadata": {
    "scrolled": false
   },
   "outputs": [
    {
     "data": {
      "image/png": "[encoded data removed]",
      "text/plain": [
       "<Figure size 576x576 with 2 Axes>"
      ]
     },
     "metadata": {
      "needs_background": "light"
     },
     "output_type": "display_data"
    }
   ],
   "source": [
    "# Create a variable with selected variables of all data types \n",
    "corr_data = df[['Age','MonthlyIncome','EducationLevel','JobSatisfaction','PercentSalaryHike',\\\n",
    "                'AverageWeeklyHoursWorked','TotalWorkingYears','WorkLifeBalance']].corr()\n",
    "\n",
    "# Visualise a Heatmap representing all Correlations/Relationships between the variables\n",
    "plt.figure(figsize=(8,8))\n",
    "sns.heatmap(corr_data, annot = True, linewidths = 0.6, fmt = '.2f')\n",
    "plt.title('Heatmap of selected variables', fontsize = 15, fontweight = 'bold')\n",
    "plt.xticks(rotation = 90)\n",
    "plt.show()"
   ]
  },
  {
   "cell_type": "markdown",
   "metadata": {
    "collapsed": true
   },
   "source": [
    "<b>All insights of our analysis can be found in the Assignment report."
   ]
  }
 ],
 "metadata": {
  "kernelspec": {
   "display_name": "Python 3 [3.7]",
   "language": "python",
   "name": "python3"
  },
  "language_info": {
   "codemirror_mode": {
    "name": "ipython",
    "version": 3
   },
   "file_extension": ".py",
   "mimetype": "text/x-python",
   "name": "python",
   "nbconvert_exporter": "python",
   "pygments_lexer": "ipython3",
   "version": "3.7.5"
  }
 },
 "nbformat": 4,
 "nbformat_minor": 2
}
